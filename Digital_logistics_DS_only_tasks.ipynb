{
 "cells": [
  {
   "cell_type": "markdown",
   "metadata": {},
   "source": [
    "# Импорты"
   ]
  },
  {
   "cell_type": "markdown",
   "metadata": {},
   "source": [
    "Допускается импортировать любые библиотеки"
   ]
  },
  {
   "cell_type": "code",
   "execution_count": 1,
   "metadata": {
    "ExecuteTime": {
     "end_time": "2021-09-23T14:53:00.437433Z",
     "start_time": "2021-09-23T14:53:00.126832Z"
    }
   },
   "outputs": [],
   "source": [
    "import pandas as pd\n",
    "import numpy as np\n",
    "from scipy import stats as sts\n",
    "\n",
    "import matplotlib.pyplot as plt\n",
    "%matplotlib inline\n",
    "plt.rcParams['figure.figsize'] = [20, 10]\n",
    "\n",
    "from sklearn.isotonic import IsotonicRegression"
   ]
  },
  {
   "cell_type": "markdown",
   "metadata": {},
   "source": [
    "# Задание №1 (код). Борьба с шумом"
   ]
  },
  {
   "cell_type": "markdown",
   "metadata": {},
   "source": [
    "На одном из предприятий Группы НЛМК - АО СГОК для вывоза горной массы используются карьерные самосвалы БЕЛАЗ_75131, БЕЛАЗ_75306\n",
    "На карьерных самосвалах установлены крупногабаритные шины (КГШ), расход которых связан с существенными затратами: около 300 шин полностью изнашиваются за 1 год, на закупку новых шин предприятие тратит около 250 млн руб/год -> сокращение темпов износа шин и повышение ходимости (пробег шины в течение жизни) позволяют существенно сократить затраты\n",
    "\n",
    "\n",
    "Команду цифровизации логистики попросили помочь с одним из проектов по повышению ходимости КГШ с применением продвинутой аналитики: необходимо выявить и оценить влияние основных факторов износа шин. \n",
    "\n",
    "Износ шин выражается в скорости истирания (сокращении) глубины протектора шины мм/км: $\\frac{ΔC_t}{D_t}$, $ΔC_t$ - разница глубины протектора в конце и начале периода, $D_t$ - пробег шины за период t\n",
    "\n",
    "В рамках проекта инженеры проводят регулярные измерения глубины протектора шины (новая шина имеет глубину 90 мм, на момент списания глубина протектора - 0 мм) с помощью электронного штангенглубиномера. "
   ]
  },
  {
   "cell_type": "markdown",
   "metadata": {},
   "source": [
    "Данные этих измерений являются основой для формирования целевой переменной, но их погрешность +- 3 мм - ниже представлен пример таких данных *df_depths*\n",
    "\n",
    "**Задача**: напишите код для нивелирования погрешности измерений для последующего использования этих данных в ML модели для факторного анализа износа шин\n",
    "\n",
    "**Подсказка**: само построение модели может быть очень коротким, но важно правильно проанализировать и подготовить данные, понятно и кратко описать шаги и полученный результат, показать структуру, чистоту и понятность кода"
   ]
  },
  {
   "cell_type": "markdown",
   "metadata": {},
   "source": [
    "## Exploration analysis "
   ]
  },
  {
   "cell_type": "code",
   "execution_count": 2,
   "metadata": {
    "ExecuteTime": {
     "end_time": "2021-09-26T04:54:21.153058Z",
     "start_time": "2021-09-26T04:54:21.136691Z"
    }
   },
   "outputs": [],
   "source": [
    "df = pd.read_excel('data_depths.xlsx')"
   ]
  },
  {
   "cell_type": "code",
   "execution_count": 3,
   "metadata": {
    "ExecuteTime": {
     "end_time": "2021-09-26T04:12:31.833293Z",
     "start_time": "2021-09-26T04:12:31.825923Z"
    }
   },
   "outputs": [
    {
     "data": {
      "text/html": [
       "<div>\n",
       "<style scoped>\n",
       "    .dataframe tbody tr th:only-of-type {\n",
       "        vertical-align: middle;\n",
       "    }\n",
       "\n",
       "    .dataframe tbody tr th {\n",
       "        vertical-align: top;\n",
       "    }\n",
       "\n",
       "    .dataframe thead th {\n",
       "        text-align: right;\n",
       "    }\n",
       "</style>\n",
       "<table border=\"1\" class=\"dataframe\">\n",
       "  <thead>\n",
       "    <tr style=\"text-align: right;\">\n",
       "      <th></th>\n",
       "      <th>Unnamed: 0</th>\n",
       "      <th>Date_measure</th>\n",
       "      <th>Dist_from_prev_measure</th>\n",
       "      <th>Depth_mm</th>\n",
       "      <th>Car</th>\n",
       "    </tr>\n",
       "  </thead>\n",
       "  <tbody>\n",
       "    <tr>\n",
       "      <th>0</th>\n",
       "      <td>1</td>\n",
       "      <td>2019-01-13</td>\n",
       "      <td>5923.523114</td>\n",
       "      <td>87.255640</td>\n",
       "      <td>101</td>\n",
       "    </tr>\n",
       "    <tr>\n",
       "      <th>1</th>\n",
       "      <td>91</td>\n",
       "      <td>2020-10-04</td>\n",
       "      <td>3358.478149</td>\n",
       "      <td>7.828197</td>\n",
       "      <td>101</td>\n",
       "    </tr>\n",
       "    <tr>\n",
       "      <th>2</th>\n",
       "      <td>9</td>\n",
       "      <td>2019-03-10</td>\n",
       "      <td>2347.843640</td>\n",
       "      <td>81.070071</td>\n",
       "      <td>101</td>\n",
       "    </tr>\n",
       "    <tr>\n",
       "      <th>3</th>\n",
       "      <td>83</td>\n",
       "      <td>2020-08-09</td>\n",
       "      <td>6129.677648</td>\n",
       "      <td>15.775609</td>\n",
       "      <td>101</td>\n",
       "    </tr>\n",
       "    <tr>\n",
       "      <th>4</th>\n",
       "      <td>20</td>\n",
       "      <td>2019-05-26</td>\n",
       "      <td>2176.149132</td>\n",
       "      <td>68.516324</td>\n",
       "      <td>101</td>\n",
       "    </tr>\n",
       "    <tr>\n",
       "      <th>5</th>\n",
       "      <td>73</td>\n",
       "      <td>2020-05-31</td>\n",
       "      <td>1504.095667</td>\n",
       "      <td>26.264870</td>\n",
       "      <td>101</td>\n",
       "    </tr>\n",
       "    <tr>\n",
       "      <th>6</th>\n",
       "      <td>94</td>\n",
       "      <td>2020-10-25</td>\n",
       "      <td>4227.149388</td>\n",
       "      <td>5.815938</td>\n",
       "      <td>101</td>\n",
       "    </tr>\n",
       "    <tr>\n",
       "      <th>7</th>\n",
       "      <td>66</td>\n",
       "      <td>2020-04-12</td>\n",
       "      <td>5209.005563</td>\n",
       "      <td>33.394888</td>\n",
       "      <td>101</td>\n",
       "    </tr>\n",
       "    <tr>\n",
       "      <th>8</th>\n",
       "      <td>15</td>\n",
       "      <td>2019-04-21</td>\n",
       "      <td>1686.850234</td>\n",
       "      <td>73.063963</td>\n",
       "      <td>101</td>\n",
       "    </tr>\n",
       "    <tr>\n",
       "      <th>9</th>\n",
       "      <td>38</td>\n",
       "      <td>2019-09-29</td>\n",
       "      <td>4655.583096</td>\n",
       "      <td>60.433952</td>\n",
       "      <td>101</td>\n",
       "    </tr>\n",
       "  </tbody>\n",
       "</table>\n",
       "</div>"
      ],
      "text/plain": [
       "   Unnamed: 0 Date_measure  Dist_from_prev_measure   Depth_mm  Car\n",
       "0           1   2019-01-13             5923.523114  87.255640  101\n",
       "1          91   2020-10-04             3358.478149   7.828197  101\n",
       "2           9   2019-03-10             2347.843640  81.070071  101\n",
       "3          83   2020-08-09             6129.677648  15.775609  101\n",
       "4          20   2019-05-26             2176.149132  68.516324  101\n",
       "5          73   2020-05-31             1504.095667  26.264870  101\n",
       "6          94   2020-10-25             4227.149388   5.815938  101\n",
       "7          66   2020-04-12             5209.005563  33.394888  101\n",
       "8          15   2019-04-21             1686.850234  73.063963  101\n",
       "9          38   2019-09-29             4655.583096  60.433952  101"
      ]
     },
     "execution_count": 3,
     "metadata": {},
     "output_type": "execute_result"
    }
   ],
   "source": [
    "df.head(10)"
   ]
  },
  {
   "cell_type": "code",
   "execution_count": 4,
   "metadata": {
    "ExecuteTime": {
     "end_time": "2021-09-23T14:17:22.521775Z",
     "start_time": "2021-09-23T14:17:22.506524Z"
    }
   },
   "outputs": [
    {
     "data": {
      "text/html": [
       "<div>\n",
       "<style scoped>\n",
       "    .dataframe tbody tr th:only-of-type {\n",
       "        vertical-align: middle;\n",
       "    }\n",
       "\n",
       "    .dataframe tbody tr th {\n",
       "        vertical-align: top;\n",
       "    }\n",
       "\n",
       "    .dataframe thead th {\n",
       "        text-align: right;\n",
       "    }\n",
       "</style>\n",
       "<table border=\"1\" class=\"dataframe\">\n",
       "  <thead>\n",
       "    <tr style=\"text-align: right;\">\n",
       "      <th></th>\n",
       "      <th>Unnamed: 0</th>\n",
       "      <th>Dist_from_prev_measure</th>\n",
       "      <th>Depth_mm</th>\n",
       "      <th>Car</th>\n",
       "    </tr>\n",
       "  </thead>\n",
       "  <tbody>\n",
       "    <tr>\n",
       "      <th>count</th>\n",
       "      <td>79.000000</td>\n",
       "      <td>79.000000</td>\n",
       "      <td>79.000000</td>\n",
       "      <td>79.0</td>\n",
       "    </tr>\n",
       "    <tr>\n",
       "      <th>mean</th>\n",
       "      <td>50.607595</td>\n",
       "      <td>3304.545380</td>\n",
       "      <td>44.256205</td>\n",
       "      <td>101.0</td>\n",
       "    </tr>\n",
       "    <tr>\n",
       "      <th>std</th>\n",
       "      <td>28.390328</td>\n",
       "      <td>2042.611107</td>\n",
       "      <td>25.399182</td>\n",
       "      <td>0.0</td>\n",
       "    </tr>\n",
       "    <tr>\n",
       "      <th>min</th>\n",
       "      <td>0.000000</td>\n",
       "      <td>309.249935</td>\n",
       "      <td>1.695712</td>\n",
       "      <td>101.0</td>\n",
       "    </tr>\n",
       "    <tr>\n",
       "      <th>25%</th>\n",
       "      <td>28.000000</td>\n",
       "      <td>1716.564807</td>\n",
       "      <td>22.783581</td>\n",
       "      <td>101.0</td>\n",
       "    </tr>\n",
       "    <tr>\n",
       "      <th>50%</th>\n",
       "      <td>52.000000</td>\n",
       "      <td>3091.995231</td>\n",
       "      <td>41.759870</td>\n",
       "      <td>101.0</td>\n",
       "    </tr>\n",
       "    <tr>\n",
       "      <th>75%</th>\n",
       "      <td>73.500000</td>\n",
       "      <td>4399.444570</td>\n",
       "      <td>63.934390</td>\n",
       "      <td>101.0</td>\n",
       "    </tr>\n",
       "    <tr>\n",
       "      <th>max</th>\n",
       "      <td>99.000000</td>\n",
       "      <td>9834.977120</td>\n",
       "      <td>94.873036</td>\n",
       "      <td>101.0</td>\n",
       "    </tr>\n",
       "  </tbody>\n",
       "</table>\n",
       "</div>"
      ],
      "text/plain": [
       "       Unnamed: 0  Dist_from_prev_measure   Depth_mm    Car\n",
       "count   79.000000               79.000000  79.000000   79.0\n",
       "mean    50.607595             3304.545380  44.256205  101.0\n",
       "std     28.390328             2042.611107  25.399182    0.0\n",
       "min      0.000000              309.249935   1.695712  101.0\n",
       "25%     28.000000             1716.564807  22.783581  101.0\n",
       "50%     52.000000             3091.995231  41.759870  101.0\n",
       "75%     73.500000             4399.444570  63.934390  101.0\n",
       "max     99.000000             9834.977120  94.873036  101.0"
      ]
     },
     "execution_count": 4,
     "metadata": {},
     "output_type": "execute_result"
    }
   ],
   "source": [
    "df.describe()"
   ]
  },
  {
   "cell_type": "code",
   "execution_count": 5,
   "metadata": {
    "ExecuteTime": {
     "end_time": "2021-09-23T14:17:23.564870Z",
     "start_time": "2021-09-23T14:17:23.561796Z"
    }
   },
   "outputs": [
    {
     "data": {
      "text/plain": [
       "array([101], dtype=int64)"
      ]
     },
     "execution_count": 5,
     "metadata": {},
     "output_type": "execute_result"
    }
   ],
   "source": [
    "df['Car'].unique()"
   ]
  },
  {
   "cell_type": "code",
   "execution_count": 6,
   "metadata": {},
   "outputs": [
    {
     "data": {
      "text/plain": [
       "0          NaT\n",
       "1     630 days\n",
       "2    -574 days\n",
       "3     518 days\n",
       "4    -441 days\n",
       "        ...   \n",
       "74    238 days\n",
       "75     98 days\n",
       "76   -588 days\n",
       "77    343 days\n",
       "78   -119 days\n",
       "Name: Date_measure, Length: 79, dtype: timedelta64[ns]"
      ]
     },
     "execution_count": 6,
     "metadata": {},
     "output_type": "execute_result"
    }
   ],
   "source": [
    "df['Date_measure'] - df['Date_measure'].shift()"
   ]
  },
  {
   "cell_type": "markdown",
   "metadata": {},
   "source": [
    "##  Препроцессинг"
   ]
  },
  {
   "cell_type": "code",
   "execution_count": 7,
   "metadata": {
    "ExecuteTime": {
     "end_time": "2021-09-26T04:54:28.441022Z",
     "start_time": "2021-09-26T04:54:28.437966Z"
    }
   },
   "outputs": [],
   "source": [
    "df.sort_values('Date_measure', inplace=True)\n",
    "df.loc[df.Depth_mm>90, 'Depth_mm'] = 90"
   ]
  },
  {
   "cell_type": "code",
   "execution_count": 8,
   "metadata": {
    "ExecuteTime": {
     "end_time": "2021-09-26T04:54:31.132388Z",
     "start_time": "2021-09-26T04:54:31.129581Z"
    }
   },
   "outputs": [],
   "source": [
    "df['Total_dist'] = df['Dist_from_prev_measure'].cumsum()"
   ]
  },
  {
   "cell_type": "code",
   "execution_count": 9,
   "metadata": {
    "ExecuteTime": {
     "end_time": "2021-09-26T04:14:12.082841Z",
     "start_time": "2021-09-26T04:14:11.984675Z"
    }
   },
   "outputs": [
    {
     "data": {
      "text/plain": [
       "[<matplotlib.lines.Line2D at 0x1f7a03edfd0>]"
      ]
     },
     "execution_count": 9,
     "metadata": {},
     "output_type": "execute_result"
    },
    {
     "data": {
      "image/png": "[encoded data removed]",
      "text/plain": [
       "<Figure size 1440x720 with 1 Axes>"
      ]
     },
     "metadata": {
      "needs_background": "light"
     },
     "output_type": "display_data"
    }
   ],
   "source": [
    "plt.plot(df['Total_dist'], df['Depth_mm'])"
   ]
  },
  {
   "cell_type": "code",
   "execution_count": 10,
   "metadata": {
    "ExecuteTime": {
     "end_time": "2021-09-26T04:54:38.732554Z",
     "start_time": "2021-09-26T04:54:38.712789Z"
    }
   },
   "outputs": [],
   "source": [
    "df['Wear_mm'] =  df['Depth_mm'].shift() - df['Depth_mm'] \n",
    "df = df.resample('W', on='Date_measure').mean()\n",
    "# wrong with dist\n",
    "df = df.interpolate(method='linear')\n",
    "\n",
    "x = df.Total_dist.values\n",
    "y = df.Depth_mm.values"
   ]
  },
  {
   "cell_type": "code",
   "execution_count": 11,
   "metadata": {},
   "outputs": [],
   "source": [
    "def plot_updated_depth(corr_data):\n",
    "    plt.plot(x, y, '.', color = \"b\")\n",
    "    plt.plot(x, corr_data, color = \"r\")\n",
    "    plt.xlabel(\"Total_dist\")\n",
    "    plt.ylabel(\"Depth_mm\")\n",
    "    plt.grid(True)\n",
    "    mse = ((y-corr_data)**2).mean()\n",
    "    print(f'MSE: {mse}')"
   ]
  },
  {
   "cell_type": "markdown",
   "metadata": {},
   "source": [
    "## Модели"
   ]
  },
  {
   "cell_type": "code",
   "execution_count": 12,
   "metadata": {},
   "outputs": [
    {
     "name": "stdout",
     "output_type": "stream",
     "text": [
      "MSE: 1.5941274169564488\n"
     ]
    },
    {
     "data": {
      "image/png": "[encoded data removed]",
      "text/plain": [
       "<Figure size 1440x720 with 1 Axes>"
      ]
     },
     "metadata": {
      "needs_background": "light"
     },
     "output_type": "display_data"
    }
   ],
   "source": [
    "plot_updated_depth(IsotonicRegression(increasing=False, y_min=0, y_max=90).fit_transform(x, y))"
   ]
  },
  {
   "cell_type": "code",
   "execution_count": 13,
   "metadata": {
    "scrolled": false
   },
   "outputs": [
    {
     "name": "stdout",
     "output_type": "stream",
     "text": [
      "MSE: 3.587633430141058\n"
     ]
    },
    {
     "data": {
      "image/png": "[encoded data removed]",
      "text/plain": [
       "<Figure size 1440x720 with 1 Axes>"
      ]
     },
     "metadata": {
      "needs_background": "light"
     },
     "output_type": "display_data"
    }
   ],
   "source": [
    "import lightgbm as lgb\n",
    "\n",
    "monotone_model = lgb.LGBMRegressor(min_child_samples=5, num_leaves=5, monotone_constraints=-1) \n",
    "monotone_model.fit(x.reshape(-1, 1), y)\n",
    "prediction = monotone_model.predict(x.reshape(-1, 1))\n",
    "plot_updated_depth(prediction)"
   ]
  },
  {
   "cell_type": "markdown",
   "metadata": {},
   "source": [
    "Изотоническая регрессия значительно меньше отклоняется от исходных данных, визуально чаще попадает точно в точки."
   ]
  },
  {
   "cell_type": "markdown",
   "metadata": {},
   "source": [
    "## Упакованное решение (pipeline)"
   ]
  },
  {
   "cell_type": "code",
   "execution_count": 14,
   "metadata": {},
   "outputs": [
    {
     "data": {
      "text/html": [
       "<div>\n",
       "<style scoped>\n",
       "    .dataframe tbody tr th:only-of-type {\n",
       "        vertical-align: middle;\n",
       "    }\n",
       "\n",
       "    .dataframe tbody tr th {\n",
       "        vertical-align: top;\n",
       "    }\n",
       "\n",
       "    .dataframe thead th {\n",
       "        text-align: right;\n",
       "    }\n",
       "</style>\n",
       "<table border=\"1\" class=\"dataframe\">\n",
       "  <thead>\n",
       "    <tr style=\"text-align: right;\">\n",
       "      <th></th>\n",
       "      <th>Unnamed: 0</th>\n",
       "      <th>Depth_mm</th>\n",
       "      <th>Car</th>\n",
       "      <th>Total_dist</th>\n",
       "      <th>Depth_mm_corrected</th>\n",
       "    </tr>\n",
       "    <tr>\n",
       "      <th>Date_measure</th>\n",
       "      <th></th>\n",
       "      <th></th>\n",
       "      <th></th>\n",
       "      <th></th>\n",
       "      <th></th>\n",
       "    </tr>\n",
       "  </thead>\n",
       "  <tbody>\n",
       "    <tr>\n",
       "      <th>2019-01-06</th>\n",
       "      <td>0.0</td>\n",
       "      <td>94.873036</td>\n",
       "      <td>101.0</td>\n",
       "      <td>908.614306</td>\n",
       "      <td>90.000000</td>\n",
       "    </tr>\n",
       "    <tr>\n",
       "      <th>2019-01-13</th>\n",
       "      <td>1.0</td>\n",
       "      <td>87.255640</td>\n",
       "      <td>101.0</td>\n",
       "      <td>6832.137420</td>\n",
       "      <td>87.255640</td>\n",
       "    </tr>\n",
       "    <tr>\n",
       "      <th>2019-01-20</th>\n",
       "      <td>2.0</td>\n",
       "      <td>85.654731</td>\n",
       "      <td>101.0</td>\n",
       "      <td>8847.505205</td>\n",
       "      <td>86.222804</td>\n",
       "    </tr>\n",
       "    <tr>\n",
       "      <th>2019-01-27</th>\n",
       "      <td>3.0</td>\n",
       "      <td>84.053821</td>\n",
       "      <td>101.0</td>\n",
       "      <td>10862.872990</td>\n",
       "      <td>86.222804</td>\n",
       "    </tr>\n",
       "    <tr>\n",
       "      <th>2019-02-03</th>\n",
       "      <td>4.0</td>\n",
       "      <td>88.959859</td>\n",
       "      <td>101.0</td>\n",
       "      <td>11897.608527</td>\n",
       "      <td>86.222804</td>\n",
       "    </tr>\n",
       "    <tr>\n",
       "      <th>...</th>\n",
       "      <td>...</td>\n",
       "      <td>...</td>\n",
       "      <td>...</td>\n",
       "      <td>...</td>\n",
       "      <td>...</td>\n",
       "    </tr>\n",
       "    <tr>\n",
       "      <th>2020-11-01</th>\n",
       "      <td>95.0</td>\n",
       "      <td>3.868384</td>\n",
       "      <td>101.0</td>\n",
       "      <td>248107.954291</td>\n",
       "      <td>3.868384</td>\n",
       "    </tr>\n",
       "    <tr>\n",
       "      <th>2020-11-08</th>\n",
       "      <td>96.0</td>\n",
       "      <td>1.695712</td>\n",
       "      <td>101.0</td>\n",
       "      <td>252164.912132</td>\n",
       "      <td>1.940079</td>\n",
       "    </tr>\n",
       "    <tr>\n",
       "      <th>2020-11-15</th>\n",
       "      <td>97.0</td>\n",
       "      <td>1.948972</td>\n",
       "      <td>101.0</td>\n",
       "      <td>255675.758743</td>\n",
       "      <td>1.940079</td>\n",
       "    </tr>\n",
       "    <tr>\n",
       "      <th>2020-11-22</th>\n",
       "      <td>98.0</td>\n",
       "      <td>2.021534</td>\n",
       "      <td>101.0</td>\n",
       "      <td>258367.421885</td>\n",
       "      <td>1.940079</td>\n",
       "    </tr>\n",
       "    <tr>\n",
       "      <th>2020-11-29</th>\n",
       "      <td>99.0</td>\n",
       "      <td>2.094096</td>\n",
       "      <td>101.0</td>\n",
       "      <td>261059.085027</td>\n",
       "      <td>1.940079</td>\n",
       "    </tr>\n",
       "  </tbody>\n",
       "</table>\n",
       "<p>100 rows × 5 columns</p>\n",
       "</div>"
      ],
      "text/plain": [
       "              Unnamed: 0   Depth_mm    Car     Total_dist  Depth_mm_corrected\n",
       "Date_measure                                                                 \n",
       "2019-01-06           0.0  94.873036  101.0     908.614306           90.000000\n",
       "2019-01-13           1.0  87.255640  101.0    6832.137420           87.255640\n",
       "2019-01-20           2.0  85.654731  101.0    8847.505205           86.222804\n",
       "2019-01-27           3.0  84.053821  101.0   10862.872990           86.222804\n",
       "2019-02-03           4.0  88.959859  101.0   11897.608527           86.222804\n",
       "...                  ...        ...    ...            ...                 ...\n",
       "2020-11-01          95.0   3.868384  101.0  248107.954291            3.868384\n",
       "2020-11-08          96.0   1.695712  101.0  252164.912132            1.940079\n",
       "2020-11-15          97.0   1.948972  101.0  255675.758743            1.940079\n",
       "2020-11-22          98.0   2.021534  101.0  258367.421885            1.940079\n",
       "2020-11-29          99.0   2.094096  101.0  261059.085027            1.940079\n",
       "\n",
       "[100 rows x 5 columns]"
      ]
     },
     "execution_count": 14,
     "metadata": {},
     "output_type": "execute_result"
    }
   ],
   "source": [
    "def load_preprocess(filename:str) -> pd.DataFrame:\n",
    "    \n",
    "    def resample_with_fill(df):\n",
    "        df = df.resample('W', on='Date_measure').mean()\n",
    "        df = df.interpolate(method='linear')\n",
    "        return df\n",
    "    \n",
    "    def dist_to_total(df):\n",
    "        df['Total_dist'] = df['Dist_from_prev_measure'].cumsum()\n",
    "        df.drop('Dist_from_prev_measure', axis='columns', inplace=True)\n",
    "        return df\n",
    "    \n",
    "    def make_monotone(series):\n",
    "        x = df.Total_dist.values\n",
    "        y = series.values\n",
    "        return IsotonicRegression(increasing=False, y_min=0, y_max=90).fit_transform(x, y)\n",
    "    \n",
    "    df = pd.read_excel(filename)\n",
    "    df.sort_values('Date_measure', inplace=True)\n",
    "    df = dist_to_total(df)\n",
    "    df = resample_with_fill(df)\n",
    "    df['Depth_mm_corrected'] = make_monotone(df.Depth_mm)\n",
    "    \n",
    "    return df\n",
    "\n",
    "df = load_preprocess('data_depths.xlsx')\n",
    "df"
   ]
  },
  {
   "cell_type": "code",
   "execution_count": 15,
   "metadata": {},
   "outputs": [
    {
     "name": "stdout",
     "output_type": "stream",
     "text": [
      "MSE: 1.8315922243973335\n"
     ]
    },
    {
     "data": {
      "image/png": "[encoded data removed]",
      "text/plain": [
       "<Figure size 1440x720 with 1 Axes>"
      ]
     },
     "metadata": {
      "needs_background": "light"
     },
     "output_type": "display_data"
    }
   ],
   "source": [
    "x = df.Total_dist\n",
    "y = df.Depth_mm\n",
    "\n",
    "plot_updated_depth(df.Depth_mm_corrected)"
   ]
  },
  {
   "cell_type": "markdown",
   "metadata": {},
   "source": [
    "# Задание №2 (текст). Подход к факторному анализу износа шин"
   ]
  },
  {
   "cell_type": "markdown",
   "metadata": {},
   "source": [
    "Необходимо оценить, какие факторы наиболее сильно влияют на износ шин:\n",
    "- определить методику моделирования - что будет целевой переменной, на основе каких данных будет проводиться feature engineering\n",
    "- определить набор факторов износа шин исходя из доступных данных и возможностей дооборудования/доп. измерений\n",
    "- определить модели, которые будут тестироваться\n",
    "- определить подход к факторному анализу - оценке степени значимости факторов. Необходимо, чтобы оценки влияния факторов стремились к независимости друг от друга\n",
    "- определить подход к оценке влияния факторов в руб"
   ]
  },
  {
   "cell_type": "markdown",
   "metadata": {},
   "source": [
    "В Вашем распоряжении есть накопленные данные за достаточный период:\n",
    "- Автоматизированная система диспетчеризации (АСД)\n",
    "    - Данные телематики - координаты (широта, долгота, высота) самосвалов с интервалом 10 сек с указанием номера самосвала, водителя, скорости, загрузки кузова в т, расхода топлива, оборотов двигателя, давления в шинах\n",
    "    - Данные о рельефе - на предприятии есть 3D модель карьера с указанием поверхностей дорог с детализацией 5 см\n",
    "- Отчет об измерениях глубины протектора: измерения глубины каждые 2 недели \n",
    "- Отчет о перестановках шин: дата время установки/снятия шины, машина откуда снята/установлена шина, позиция шины (колесная формула 2х4)"
   ]
  },
  {
   "cell_type": "markdown",
   "metadata": {},
   "source": [
    "Текущие гипотезы по группам влияющих факторов:\n",
    "- Рельеф\n",
    "    - продольный, поперечный уклон дороги\n",
    "    - шероховатость/качество дорожного покрытия - ямы, кочки и пр.\n",
    "    - кол-во, радиус/крутизна виражей\n",
    "- Скорость движения\n",
    "- Загрузка кузова\n",
    "- Место установки шины"
   ]
  },
  {
   "cell_type": "markdown",
   "metadata": {},
   "source": [
    "**Задача**: напишите ответы на вопросы ниже"
   ]
  },
  {
   "cell_type": "markdown",
   "metadata": {},
   "source": [
    "*Вопрос 1*: напишите примерную формулу расчета целевой переменной и укажите ее единицы измерения. Почему выбрали именно ее?"
   ]
  },
  {
   "cell_type": "markdown",
   "metadata": {},
   "source": [
    "*Вопрос 2*: предложите перечень из 10-ти факторов, которые будут использованы для обучения модели, укажите к какой группе (см. выше) относится фактор, на основании каких данных (см. выше) эти факторы будут посчитаны"
   ]
  },
  {
   "cell_type": "markdown",
   "metadata": {},
   "source": [
    "*Вопрос 3:* перечислите не менее 3-х классов моделей/подходов, которые могут быть использованы для моделирования? Какой подход предпочтительный и почему?  "
   ]
  },
  {
   "cell_type": "markdown",
   "metadata": {},
   "source": [
    "*Вопрос 4*: какую метрику будете использовать для оценки точности модели? Почему именно ее?"
   ]
  },
  {
   "cell_type": "markdown",
   "metadata": {},
   "source": [
    "*Вопрос 5*: какой метод будете использовать для оценки влияния каждого из факторов? В чем недостатки обычного feature importance?"
   ]
  },
  {
   "cell_type": "markdown",
   "metadata": {},
   "source": [
    "*Вопрос 6* (\\*): напишите (текстом) алгоритм расчета экономического эффекта от скоращения кол-ва требуемых шин за счет воздействия на один из факторов, напр., скорость"
   ]
  },
  {
   "cell_type": "markdown",
   "metadata": {},
   "source": [
    "# Задание №3 (текст). Валидация модели"
   ]
  },
  {
   "cell_type": "markdown",
   "metadata": {},
   "source": [
    "Представим, что предложенный Вами выше подход отлично сработал - Вы получили модель с MAPE 6%, $R^2$ 85%.\n",
    "Вам даже удалось оценить плановый экономический эффект от воздействия на факторы износа шин - он составляет 30 млн руб/год\n",
    "Коллеги из эксплуатации поверили в модель и сообщили о готовности по Вашим рекомендациям осуществлять:\n",
    "\n",
    "1) корректировку состояния дорожного полотна - засыпают ямы и овраги, срезают кочки и холмы\n",
    "\n",
    "2) своевременную подкачку и снижение давления - по Вашим оценкам это принесет 7 млн руб\n",
    "\n",
    "Вы понимаете, что когда они проделают большую и сложную работу - от Вас попросят оценить, какой объем экономии принесла эта работа"
   ]
  },
  {
   "cell_type": "markdown",
   "metadata": {},
   "source": [
    "**Задача**: предложите подход (текстом) к достоверному мониторингу снижения темпов износа шин по указанным 2-м направлениям. В карьере каждую 12-ч смену на работу (круглосуточно) выходят 40 самосвалов, совершают в месяц каждый по 9000 рейсов длиной по 3.5 км в среднем. У самосвалов нет постоянных маршрутов и зон работ - в течение месяца они равномерно ездят по всему карьеру\n"
   ]
  },
  {
   "cell_type": "markdown",
   "metadata": {},
   "source": [
    "# Задание №4 (текст). Встраивание модели в прод"
   ]
  },
  {
   "cell_type": "markdown",
   "metadata": {},
   "source": [
    "Отлично! Оцененный Вами эффект прошел экономичесую экспертизу, Вы и Ваши коллеги получили весомую премию (МИН(5% от эк. эффекта на рабочую группу;1.5 млн руб))\n",
    "Принято решение разработать на основе модели приложение - рекомендательный сервис, какие дороги надо чинить в первую очередь, чтобы сэкономить на шинах\n",
    "\n",
    "Для этого модель должна для каждого нового рейса выдавать индекс потерь на каждом участке дорог длиной 100 м (допустим, логика для этого уже реализована в наборе скриптов), записывать данные в БД и выдавать их по API другому микросервису + Вы планируете совершенствовать логику модели, непрерывно с ней эксперементируя и выкатывать новые версии"
   ]
  },
  {
   "cell_type": "markdown",
   "metadata": {},
   "source": [
    "**Задача**: предложите подход, как эффективно организовать продуктивный процесс работы с моделью. В компании развернута Технологическая Платформа на базе Openshift, проблем с предоставлением ВМ также нет"
   ]
  },
  {
   "cell_type": "markdown",
   "metadata": {},
   "source": [
    "\n",
    "\n",
    "# Задание №5 (код). Оптимизатор загрузки вагонов"
   ]
  },
  {
   "cell_type": "markdown",
   "metadata": {},
   "source": [
    "Вы отлично проявили себя на проектах АО СГОК!\n",
    "\n",
    "Теперь коллеги из ЖД логистики основной производственной площадки в Липецке просят Вашей помощи с автоматизацией и оптимизацией алгоритмов загрузки вагонов.\n",
    "\n",
    "Одним из наиболее значимых по грузопотоку и выручке направлений является производство слябов. Слябы - это большие металлические слитки весом 3-60 тонн, которые отправляются клиентам в вагонах разной грузоподъемности и стоимости\n",
    "\n",
    "Сейчас укладка планирование укладки слябов в вагоны производится вручную, что занимает длительные 2 ч в каждую смену + Вы проанализировали выборочно статистику и обнаружили потенциал применения для этой задачи алгоритмов численной оптимизации в 200 млн руб/год - игра стоит свеч!"
   ]
  },
  {
   "cell_type": "markdown",
   "metadata": {},
   "source": [
    "**Задача**: напишлите код, который уложит слябы (табл. Units) в вагоны из перечня wagons_types *([(Грузоподъемность вагона типа 1 т/вагон, стоимость использования вагона 1 под перевозку, руб/вагон), (Грузоподъемность вагона типа 2 т/вагон, стоимость использования вагона 2 под перевозку, руб/вагон), ...])* с минимальной суммарной стоимостью"
   ]
  },
  {
   "cell_type": "markdown",
   "metadata": {},
   "source": [
    "**Подсказка**: можете использовать любые библиотеки (ortools, mip, ...) / реализовать алгоритм смостоятельно (см. FFD и подобные). Если используете алгоритм приближенной оптимизации - укажите, почему"
   ]
  },
  {
   "cell_type": "markdown",
   "metadata": {},
   "source": [
    "**Ограничение**: все слябы из units должны быть уложены в вагон, можно использовать только вагоны из перечня wagons_types, грузоподъемность вагона не должна превышаться"
   ]
  },
  {
   "cell_type": "code",
   "execution_count": 75,
   "metadata": {},
   "outputs": [],
   "source": [
    "df_units = pd.read_excel('Units.xlsx')"
   ]
  },
  {
   "cell_type": "code",
   "execution_count": 76,
   "metadata": {},
   "outputs": [],
   "source": [
    "wagons_types = [(75, 100000), (74, 90000), (73, 88000), (72, 87000), (69, 80000)]"
   ]
  }
 ],
 "metadata": {
  "kernelspec": {
   "display_name": "Python [conda env:test]",
   "language": "python",
   "name": "conda-env-test-py"
  },
  "language_info": {
   "codemirror_mode": {
    "name": "ipython",
    "version": 3
   },
   "file_extension": ".py",
   "mimetype": "text/x-python",
   "name": "python",
   "nbconvert_exporter": "python",
   "pygments_lexer": "ipython3",
   "version": "3.9.6"
  },
  "toc": {
   "base_numbering": 1,
   "nav_menu": {},
   "number_sections": true,
   "sideBar": true,
   "skip_h1_title": false,
   "title_cell": "Table of Contents",
   "title_sidebar": "Contents",
   "toc_cell": false,
   "toc_position": {},
   "toc_section_display": true,
   "toc_window_display": false
  },
  "varInspector": {
   "cols": {
    "lenName": 16,
    "lenType": 16,
    "lenVar": 40
   },
   "kernels_config": {
    "python": {
     "delete_cmd_postfix": "",
     "delete_cmd_prefix": "del ",
     "library": "var_list.py",
     "varRefreshCmd": "print(var_dic_list())"
    },
    "r": {
     "delete_cmd_postfix": ") ",
     "delete_cmd_prefix": "rm(",
     "library": "var_list.r",
     "varRefreshCmd": "cat(var_dic_list()) "
    }
   },
   "types_to_exclude": [
    "module",
    "function",
    "builtin_function_or_method",
    "instance",
    "_Feature"
   ],
   "window_display": false
  }
 },
 "nbformat": 4,
 "nbformat_minor": 4
}
