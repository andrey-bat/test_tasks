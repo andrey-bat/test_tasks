{
 "cells": [
  {
   "cell_type": "markdown",
   "metadata": {
    "toc": true
   },
   "source": [
    "<h1>Table of Contents<span class=\"tocSkip\"></span></h1>\n",
    "<div class=\"toc\"><ul class=\"toc-item\"><li><span><a href=\"#Task-description\" data-toc-modified-id=\"Task-description-1\"><span class=\"toc-item-num\">1&nbsp;&nbsp;</span>Task description</a></span></li><li><span><a href=\"#Imports\" data-toc-modified-id=\"Imports-2\"><span class=\"toc-item-num\">2&nbsp;&nbsp;</span>Imports</a></span></li><li><span><a href=\"#Load-data\" data-toc-modified-id=\"Load-data-3\"><span class=\"toc-item-num\">3&nbsp;&nbsp;</span>Load data</a></span></li><li><span><a href=\"#Sentiment\" data-toc-modified-id=\"Sentiment-4\"><span class=\"toc-item-num\">4&nbsp;&nbsp;</span>Sentiment</a></span><ul class=\"toc-item\"><li><span><a href=\"#Exploratory-analysis-for-sentiment\" data-toc-modified-id=\"Exploratory-analysis-for-sentiment-4.1\"><span class=\"toc-item-num\">4.1&nbsp;&nbsp;</span>Exploratory analysis for sentiment</a></span></li><li><span><a href=\"#Sentiment-analysis\" data-toc-modified-id=\"Sentiment-analysis-4.2\"><span class=\"toc-item-num\">4.2&nbsp;&nbsp;</span>Sentiment analysis</a></span></li></ul></li><li><span><a href=\"#Recommendations\" data-toc-modified-id=\"Recommendations-5\"><span class=\"toc-item-num\">5&nbsp;&nbsp;</span>Recommendations</a></span><ul class=\"toc-item\"><li><span><a href=\"#Exploratory-analysis-for-recommendation\" data-toc-modified-id=\"Exploratory-analysis-for-recommendation-5.1\"><span class=\"toc-item-num\">5.1&nbsp;&nbsp;</span>Exploratory analysis for recommendation</a></span></li><li><span><a href=\"#Most-popular-products\" data-toc-modified-id=\"Most-popular-products-5.2\"><span class=\"toc-item-num\">5.2&nbsp;&nbsp;</span>Most popular products</a></span></li><li><span><a href=\"#Collaborative-filtering\" data-toc-modified-id=\"Collaborative-filtering-5.3\"><span class=\"toc-item-num\">5.3&nbsp;&nbsp;</span>Collaborative filtering</a></span></li><li><span><a href=\"#Matrix-factorization\" data-toc-modified-id=\"Matrix-factorization-5.4\"><span class=\"toc-item-num\">5.4&nbsp;&nbsp;</span>Matrix factorization</a></span></li><li><span><a href=\"#Turicreate\" data-toc-modified-id=\"Turicreate-5.5\"><span class=\"toc-item-num\">5.5&nbsp;&nbsp;</span>Turicreate</a></span></li><li><span><a href=\"#Model-evaluation\" data-toc-modified-id=\"Model-evaluation-5.6\"><span class=\"toc-item-num\">5.6&nbsp;&nbsp;</span>Model evaluation</a></span></li><li><span><a href=\"#Final-recommendation-system-(on-Turicreate)\" data-toc-modified-id=\"Final-recommendation-system-(on-Turicreate)-5.7\"><span class=\"toc-item-num\">5.7&nbsp;&nbsp;</span>Final recommendation system (on Turicreate)</a></span></li></ul></li></ul></div>"
   ]
  },
  {
   "cell_type": "markdown",
   "metadata": {},
   "source": [
    "# Task description\n",
    "1. Using the dataset for Amazon Fine Food Reviews (https://www.kaggle.com/snap/amazon-fine-food-reviews, Reviews.csv) create a simple recommendation engine which recommends products to users based on their previous experience and rates. You can use either a user-based approach either product-based one.\n",
    "To avoid excessive amount of workaround you can limit your model to score feature only (do not need to analyze review text).\n",
    "<br><b>Deliverables</b>:\n",
    "Your solution has to return three recommendations for every passed UserId and these recommended products have not match to products reviewed by user.\n",
    "2. For Text field in dataset please create a mechanism to determine a review’s sentiment. Try to suggest alternative approach to using score as a sentiment label.\n",
    "<br><br>NB: results have to be returned in .ipynb or .py format. "
   ]
  },
  {
   "cell_type": "markdown",
   "metadata": {},
   "source": [
    "# Imports"
   ]
  },
  {
   "cell_type": "code",
   "execution_count": 1,
   "metadata": {
    "ExecuteTime": {
     "end_time": "2021-09-24T09:35:12.044181Z",
     "start_time": "2021-09-24T09:35:10.958752Z"
    }
   },
   "outputs": [],
   "source": [
    "import pandas as pd\n",
    "import matplotlib.pyplot as plt\n",
    "plt.rcParams['figure.figsize'] = [20, 10]\n",
    "import zipfile\n",
    "from statistics import mean\n",
    "from nltk.tokenize import word_tokenize, sent_tokenize\n",
    "from nltk.corpus import stopwords\n",
    "from nltk.stem.wordnet import WordNetLemmatizer\n",
    "from nltk.sentiment.vader import SentimentIntensityAnalyzer\n",
    "from sklearn.metrics.pairwise import pairwise_distances, pairwise_distances_chunked\n",
    "from collections import Counter"
   ]
  },
  {
   "cell_type": "markdown",
   "metadata": {},
   "source": [
    "# Load data"
   ]
  },
  {
   "cell_type": "code",
   "execution_count": 2,
   "metadata": {
    "ExecuteTime": {
     "end_time": "2021-09-24T09:35:15.274431Z",
     "start_time": "2021-09-24T09:35:15.265959Z"
    }
   },
   "outputs": [
    {
     "data": {
      "text/plain": [
       "['Reviews.csv', 'database.sqlite', 'hashes.txt']"
      ]
     },
     "execution_count": 2,
     "metadata": {},
     "output_type": "execute_result"
    }
   ],
   "source": [
    "z = zipfile.ZipFile('archive.zip')\n",
    "z.namelist()"
   ]
  },
  {
   "cell_type": "code",
   "execution_count": 3,
   "metadata": {
    "ExecuteTime": {
     "end_time": "2021-09-24T09:35:23.253982Z",
     "start_time": "2021-09-24T09:35:17.501876Z"
    }
   },
   "outputs": [
    {
     "data": {
      "text/plain": [
       "(568454, 10)"
      ]
     },
     "execution_count": 3,
     "metadata": {},
     "output_type": "execute_result"
    }
   ],
   "source": [
    "df = pd.read_csv(z.open('Reviews.csv'))\n",
    "df.shape"
   ]
  },
  {
   "cell_type": "markdown",
   "metadata": {
    "heading_collapsed": true
   },
   "source": [
    "# Sentiment"
   ]
  },
  {
   "cell_type": "markdown",
   "metadata": {
    "ExecuteTime": {
     "end_time": "2021-09-17T02:43:20.083284Z",
     "start_time": "2021-09-17T02:43:20.078767Z"
    },
    "heading_collapsed": true,
    "hidden": true
   },
   "source": [
    "## Exploratory analysis for sentiment"
   ]
  },
  {
   "cell_type": "code",
   "execution_count": 8,
   "metadata": {
    "ExecuteTime": {
     "end_time": "2021-09-17T02:49:09.987849Z",
     "start_time": "2021-09-17T02:49:09.968654Z"
    },
    "hidden": true
   },
   "outputs": [
    {
     "data": {
      "text/html": [
       "<div>\n",
       "<style scoped>\n",
       "    .dataframe tbody tr th:only-of-type {\n",
       "        vertical-align: middle;\n",
       "    }\n",
       "\n",
       "    .dataframe tbody tr th {\n",
       "        vertical-align: top;\n",
       "    }\n",
       "\n",
       "    .dataframe thead th {\n",
       "        text-align: right;\n",
       "    }\n",
       "</style>\n",
       "<table border=\"1\" class=\"dataframe\">\n",
       "  <thead>\n",
       "    <tr style=\"text-align: right;\">\n",
       "      <th></th>\n",
       "      <th>Id</th>\n",
       "      <th>ProductId</th>\n",
       "      <th>UserId</th>\n",
       "      <th>ProfileName</th>\n",
       "      <th>HelpfulnessNumerator</th>\n",
       "      <th>HelpfulnessDenominator</th>\n",
       "      <th>Score</th>\n",
       "      <th>Time</th>\n",
       "      <th>Summary</th>\n",
       "      <th>Text</th>\n",
       "    </tr>\n",
       "  </thead>\n",
       "  <tbody>\n",
       "    <tr>\n",
       "      <th>0</th>\n",
       "      <td>1</td>\n",
       "      <td>B001E4KFG0</td>\n",
       "      <td>A3SGXH7AUHU8GW</td>\n",
       "      <td>delmartian</td>\n",
       "      <td>1</td>\n",
       "      <td>1</td>\n",
       "      <td>5</td>\n",
       "      <td>1303862400</td>\n",
       "      <td>Good Quality Dog Food</td>\n",
       "      <td>I have bought several of the Vitality canned d...</td>\n",
       "    </tr>\n",
       "    <tr>\n",
       "      <th>1</th>\n",
       "      <td>2</td>\n",
       "      <td>B00813GRG4</td>\n",
       "      <td>A1D87F6ZCVE5NK</td>\n",
       "      <td>dll pa</td>\n",
       "      <td>0</td>\n",
       "      <td>0</td>\n",
       "      <td>1</td>\n",
       "      <td>1346976000</td>\n",
       "      <td>Not as Advertised</td>\n",
       "      <td>Product arrived labeled as Jumbo Salted Peanut...</td>\n",
       "    </tr>\n",
       "    <tr>\n",
       "      <th>2</th>\n",
       "      <td>3</td>\n",
       "      <td>B000LQOCH0</td>\n",
       "      <td>ABXLMWJIXXAIN</td>\n",
       "      <td>Natalia Corres \"Natalia Corres\"</td>\n",
       "      <td>1</td>\n",
       "      <td>1</td>\n",
       "      <td>4</td>\n",
       "      <td>1219017600</td>\n",
       "      <td>\"Delight\" says it all</td>\n",
       "      <td>This is a confection that has been around a fe...</td>\n",
       "    </tr>\n",
       "    <tr>\n",
       "      <th>3</th>\n",
       "      <td>4</td>\n",
       "      <td>B000UA0QIQ</td>\n",
       "      <td>A395BORC6FGVXV</td>\n",
       "      <td>Karl</td>\n",
       "      <td>3</td>\n",
       "      <td>3</td>\n",
       "      <td>2</td>\n",
       "      <td>1307923200</td>\n",
       "      <td>Cough Medicine</td>\n",
       "      <td>If you are looking for the secret ingredient i...</td>\n",
       "    </tr>\n",
       "    <tr>\n",
       "      <th>4</th>\n",
       "      <td>5</td>\n",
       "      <td>B006K2ZZ7K</td>\n",
       "      <td>A1UQRSCLF8GW1T</td>\n",
       "      <td>Michael D. Bigham \"M. Wassir\"</td>\n",
       "      <td>0</td>\n",
       "      <td>0</td>\n",
       "      <td>5</td>\n",
       "      <td>1350777600</td>\n",
       "      <td>Great taffy</td>\n",
       "      <td>Great taffy at a great price.  There was a wid...</td>\n",
       "    </tr>\n",
       "  </tbody>\n",
       "</table>\n",
       "</div>"
      ],
      "text/plain": [
       "   Id   ProductId          UserId                      ProfileName  \\\n",
       "0   1  B001E4KFG0  A3SGXH7AUHU8GW                       delmartian   \n",
       "1   2  B00813GRG4  A1D87F6ZCVE5NK                           dll pa   \n",
       "2   3  B000LQOCH0   ABXLMWJIXXAIN  Natalia Corres \"Natalia Corres\"   \n",
       "3   4  B000UA0QIQ  A395BORC6FGVXV                             Karl   \n",
       "4   5  B006K2ZZ7K  A1UQRSCLF8GW1T    Michael D. Bigham \"M. Wassir\"   \n",
       "\n",
       "   HelpfulnessNumerator  HelpfulnessDenominator  Score        Time  \\\n",
       "0                     1                       1      5  1303862400   \n",
       "1                     0                       0      1  1346976000   \n",
       "2                     1                       1      4  1219017600   \n",
       "3                     3                       3      2  1307923200   \n",
       "4                     0                       0      5  1350777600   \n",
       "\n",
       "                 Summary                                               Text  \n",
       "0  Good Quality Dog Food  I have bought several of the Vitality canned d...  \n",
       "1      Not as Advertised  Product arrived labeled as Jumbo Salted Peanut...  \n",
       "2  \"Delight\" says it all  This is a confection that has been around a fe...  \n",
       "3         Cough Medicine  If you are looking for the secret ingredient i...  \n",
       "4            Great taffy  Great taffy at a great price.  There was a wid...  "
      ]
     },
     "execution_count": 8,
     "metadata": {},
     "output_type": "execute_result"
    }
   ],
   "source": [
    "df.head()"
   ]
  },
  {
   "cell_type": "code",
   "execution_count": 68,
   "metadata": {
    "ExecuteTime": {
     "end_time": "2021-09-19T06:31:20.521934Z",
     "start_time": "2021-09-19T06:31:20.410871Z"
    },
    "hidden": true
   },
   "outputs": [
    {
     "data": {
      "text/html": [
       "<div>\n",
       "<style scoped>\n",
       "    .dataframe tbody tr th:only-of-type {\n",
       "        vertical-align: middle;\n",
       "    }\n",
       "\n",
       "    .dataframe tbody tr th {\n",
       "        vertical-align: top;\n",
       "    }\n",
       "\n",
       "    .dataframe thead th {\n",
       "        text-align: right;\n",
       "    }\n",
       "</style>\n",
       "<table border=\"1\" class=\"dataframe\">\n",
       "  <thead>\n",
       "    <tr style=\"text-align: right;\">\n",
       "      <th></th>\n",
       "      <th>Id</th>\n",
       "      <th>HelpfulnessNumerator</th>\n",
       "      <th>HelpfulnessDenominator</th>\n",
       "      <th>Score</th>\n",
       "      <th>Time</th>\n",
       "      <th>sentiment</th>\n",
       "    </tr>\n",
       "  </thead>\n",
       "  <tbody>\n",
       "    <tr>\n",
       "      <th>count</th>\n",
       "      <td>568454.000000</td>\n",
       "      <td>568454.000000</td>\n",
       "      <td>568454.00000</td>\n",
       "      <td>568454.000000</td>\n",
       "      <td>5.684540e+05</td>\n",
       "      <td>568454.000000</td>\n",
       "    </tr>\n",
       "    <tr>\n",
       "      <th>mean</th>\n",
       "      <td>284227.500000</td>\n",
       "      <td>1.743817</td>\n",
       "      <td>2.22881</td>\n",
       "      <td>4.183199</td>\n",
       "      <td>1.296257e+09</td>\n",
       "      <td>0.296006</td>\n",
       "    </tr>\n",
       "    <tr>\n",
       "      <th>std</th>\n",
       "      <td>164098.679298</td>\n",
       "      <td>7.636513</td>\n",
       "      <td>8.28974</td>\n",
       "      <td>1.310436</td>\n",
       "      <td>4.804331e+07</td>\n",
       "      <td>0.253105</td>\n",
       "    </tr>\n",
       "    <tr>\n",
       "      <th>min</th>\n",
       "      <td>1.000000</td>\n",
       "      <td>0.000000</td>\n",
       "      <td>0.00000</td>\n",
       "      <td>1.000000</td>\n",
       "      <td>9.393408e+08</td>\n",
       "      <td>-0.974600</td>\n",
       "    </tr>\n",
       "    <tr>\n",
       "      <th>25%</th>\n",
       "      <td>142114.250000</td>\n",
       "      <td>0.000000</td>\n",
       "      <td>0.00000</td>\n",
       "      <td>4.000000</td>\n",
       "      <td>1.271290e+09</td>\n",
       "      <td>0.138038</td>\n",
       "    </tr>\n",
       "    <tr>\n",
       "      <th>50%</th>\n",
       "      <td>284227.500000</td>\n",
       "      <td>0.000000</td>\n",
       "      <td>1.00000</td>\n",
       "      <td>5.000000</td>\n",
       "      <td>1.311120e+09</td>\n",
       "      <td>0.297273</td>\n",
       "    </tr>\n",
       "    <tr>\n",
       "      <th>75%</th>\n",
       "      <td>426340.750000</td>\n",
       "      <td>2.000000</td>\n",
       "      <td>2.00000</td>\n",
       "      <td>5.000000</td>\n",
       "      <td>1.332720e+09</td>\n",
       "      <td>0.456933</td>\n",
       "    </tr>\n",
       "    <tr>\n",
       "      <th>max</th>\n",
       "      <td>568454.000000</td>\n",
       "      <td>866.000000</td>\n",
       "      <td>923.00000</td>\n",
       "      <td>5.000000</td>\n",
       "      <td>1.351210e+09</td>\n",
       "      <td>0.998300</td>\n",
       "    </tr>\n",
       "  </tbody>\n",
       "</table>\n",
       "</div>"
      ],
      "text/plain": [
       "                  Id  HelpfulnessNumerator  HelpfulnessDenominator  \\\n",
       "count  568454.000000         568454.000000            568454.00000   \n",
       "mean   284227.500000              1.743817                 2.22881   \n",
       "std    164098.679298              7.636513                 8.28974   \n",
       "min         1.000000              0.000000                 0.00000   \n",
       "25%    142114.250000              0.000000                 0.00000   \n",
       "50%    284227.500000              0.000000                 1.00000   \n",
       "75%    426340.750000              2.000000                 2.00000   \n",
       "max    568454.000000            866.000000               923.00000   \n",
       "\n",
       "               Score          Time      sentiment  \n",
       "count  568454.000000  5.684540e+05  568454.000000  \n",
       "mean        4.183199  1.296257e+09       0.296006  \n",
       "std         1.310436  4.804331e+07       0.253105  \n",
       "min         1.000000  9.393408e+08      -0.974600  \n",
       "25%         4.000000  1.271290e+09       0.138038  \n",
       "50%         5.000000  1.311120e+09       0.297273  \n",
       "75%         5.000000  1.332720e+09       0.456933  \n",
       "max         5.000000  1.351210e+09       0.998300  "
      ]
     },
     "execution_count": 68,
     "metadata": {},
     "output_type": "execute_result"
    }
   ],
   "source": [
    "df.describe()"
   ]
  },
  {
   "cell_type": "code",
   "execution_count": 16,
   "metadata": {
    "ExecuteTime": {
     "end_time": "2021-09-17T02:59:23.919797Z",
     "start_time": "2021-09-17T02:59:23.906523Z"
    },
    "hidden": true
   },
   "outputs": [
    {
     "name": "stdout",
     "output_type": "stream",
     "text": [
      "I have bought several of the Vitality canned dog food products and have found them all to be of good quality. The product looks more like a stew than a processed meat and it smells better. My Labrador is finicky and she appreciates this product better than  most.\n",
      "Product arrived labeled as Jumbo Salted Peanuts...the peanuts were actually small sized unsalted. Not sure if this was an error or if the vendor intended to represent the product as \"Jumbo\".\n",
      "This is a confection that has been around a few centuries.  It is a light, pillowy citrus gelatin with nuts - in this case Filberts. And it is cut into tiny squares and then liberally coated with powdered sugar.  And it is a tiny mouthful of heaven.  Not too chewy, and very flavorful.  I highly recommend this yummy treat.  If you are familiar with the story of C.S. Lewis' \"The Lion, The Witch, and The Wardrobe\" - this is the treat that seduces Edmund into selling out his Brother and Sisters to the Witch.\n",
      "If you are looking for the secret ingredient in Robitussin I believe I have found it.  I got this in addition to the Root Beer Extract I ordered (which was good) and made some cherry soda.  The flavor is very medicinal.\n",
      "Great taffy at a great price.  There was a wide assortment of yummy taffy.  Delivery was very quick.  If your a taffy lover, this is a deal.\n",
      "I got a wild hair for taffy and ordered this five pound bag. The taffy was all very enjoyable with many flavors: watermelon, root beer, melon, peppermint, grape, etc. My only complaint is there was a bit too much red/black licorice-flavored pieces (just not my particular favorites). Between me, my kids, and my husband, this lasted only two weeks! I would recommend this brand of taffy -- it was a delightful treat.\n",
      "This saltwater taffy had great flavors and was very soft and chewy.  Each candy was individually wrapped well.  None of the candies were stuck together, which did happen in the expensive version, Fralinger's.  Would highly recommend this candy!  I served it at a beach-themed party and everyone loved it!\n",
      "This taffy is so good.  It is very soft and chewy.  The flavors are amazing.  I would definitely recommend you buying it.  Very satisfying!!\n",
      "Right now I'm mostly just sprouting this so my cats can eat the grass. They love it. I rotate it around with Wheatgrass and Rye too\n",
      "This is a very healthy dog food. Good for their digestion. Also good for small puppies. My dog eats her required amount at every feeding.\n"
     ]
    }
   ],
   "source": [
    "for row in df[:10].itertuples():\n",
    "    print(row.Text)"
   ]
  },
  {
   "cell_type": "code",
   "execution_count": 55,
   "metadata": {
    "ExecuteTime": {
     "end_time": "2021-09-17T03:58:56.676500Z",
     "start_time": "2021-09-17T03:58:56.665875Z"
    },
    "hidden": true
   },
   "outputs": [],
   "source": [
    "stop_words = set(stopwords.words(\"english\"))\n",
    "stop_words.update(['.', ',', '(', ')', '-', '...', \"'\", '``', \"''\"])\n",
    "\n",
    "def remove_stop_words(tokenized_text:list[str]) -> list[str]:\n",
    "    cleaned = [word for word in tokenized_text if word not in stop_words]\n",
    "    return cleaned\n",
    "\n",
    "\n",
    "lem = WordNetLemmatizer()\n",
    "\n",
    "def lemmatize(tokenized_text:list[str]) -> list[str]:\n",
    "    return [lem.lemmatize(word,\"v\").lower() for word in tokenized_text]"
   ]
  },
  {
   "cell_type": "code",
   "execution_count": 56,
   "metadata": {
    "ExecuteTime": {
     "end_time": "2021-09-17T03:59:00.189071Z",
     "start_time": "2021-09-17T03:59:00.169208Z"
    },
    "hidden": true
   },
   "outputs": [
    {
     "name": "stdout",
     "output_type": "stream",
     "text": [
      "I have bought several of the Vitality canned dog food products and have found them all to be of good quality. The product looks more like a stew than a processed meat and it smells better. My Labrador is finicky and she appreciates this product better than  most.\n",
      "['i', 'buy', 'several', 'vitality', 'can', 'dog', 'food', 'products', 'find', 'good', 'quality', 'the', 'product', 'look', 'like', 'stew', 'process', 'meat', 'smell', 'better', 'my', 'labrador', 'finicky', 'appreciate', 'product', 'better']\n",
      "----\n",
      "Product arrived labeled as Jumbo Salted Peanuts...the peanuts were actually small sized unsalted. Not sure if this was an error or if the vendor intended to represent the product as \"Jumbo\".\n",
      "['product', 'arrive', 'label', 'jumbo', 'salted', 'peanuts', 'peanuts', 'actually', 'small', 'size', 'unsalted', 'not', 'sure', 'error', 'vendor', 'intend', 'represent', 'product', 'jumbo']\n",
      "----\n",
      "This is a confection that has been around a few centuries.  It is a light, pillowy citrus gelatin with nuts - in this case Filberts. And it is cut into tiny squares and then liberally coated with powdered sugar.  And it is a tiny mouthful of heaven.  Not too chewy, and very flavorful.  I highly recommend this yummy treat.  If you are familiar with the story of C.S. Lewis' \"The Lion, The Witch, and The Wardrobe\" - this is the treat that seduces Edmund into selling out his Brother and Sisters to the Witch.\n",
      "['this', 'confection', 'around', 'centuries', 'it', 'light', 'pillowy', 'citrus', 'gelatin', 'nut', 'case', 'filberts', 'and', 'cut', 'tiny', 'square', 'liberally', 'coat', 'powder', 'sugar', 'and', 'tiny', 'mouthful', 'heaven', 'not', 'chewy', 'flavorful', 'i', 'highly', 'recommend', 'yummy', 'treat', 'if', 'familiar', 'story', 'c.s', 'lewis', 'the', 'lion', 'the', 'witch', 'the', 'wardrobe', 'treat', 'seduce', 'edmund', 'sell', 'brother', 'sisters', 'witch']\n",
      "----\n",
      "If you are looking for the secret ingredient in Robitussin I believe I have found it.  I got this in addition to the Root Beer Extract I ordered (which was good) and made some cherry soda.  The flavor is very medicinal.\n",
      "['if', 'look', 'secret', 'ingredient', 'robitussin', 'i', 'believe', 'i', 'find', 'i', 'get', 'addition', 'root', 'beer', 'extract', 'i', 'order', 'good', 'make', 'cherry', 'soda', 'the', 'flavor', 'medicinal']\n",
      "----\n",
      "Great taffy at a great price.  There was a wide assortment of yummy taffy.  Delivery was very quick.  If your a taffy lover, this is a deal.\n",
      "['great', 'taffy', 'great', 'price', 'there', 'wide', 'assortment', 'yummy', 'taffy', 'delivery', 'quick', 'if', 'taffy', 'lover', 'deal']\n",
      "----\n"
     ]
    }
   ],
   "source": [
    "for row in df[:5].itertuples():\n",
    "    text = row.Text\n",
    "    print(text)\n",
    "    tokens = [word for sent in sent_tokenize(text) for word in word_tokenize(sent)]\n",
    "    tokens = remove_stop_words(tokens)\n",
    "    tokens = lemmatize(tokens)\n",
    "    print(tokens)\n",
    "    print('----')"
   ]
  },
  {
   "cell_type": "markdown",
   "metadata": {
    "heading_collapsed": true,
    "hidden": true
   },
   "source": [
    "## Sentiment analysis"
   ]
  },
  {
   "cell_type": "code",
   "execution_count": 58,
   "metadata": {
    "ExecuteTime": {
     "end_time": "2021-09-17T04:04:56.930441Z",
     "start_time": "2021-09-17T04:04:56.895603Z"
    },
    "hidden": true
   },
   "outputs": [
    {
     "name": "stdout",
     "output_type": "stream",
     "text": [
      "I have bought several of the Vitality canned dog food products and have found them all to be of good quality. {'neg': 0.0, 'neu': 0.776, 'pos': 0.224, 'compound': 0.6369}\n",
      "The product looks more like a stew than a processed meat and it smells better. {'neg': 0.0, 'neu': 0.659, 'pos': 0.341, 'compound': 0.6901}\n",
      "My Labrador is finicky and she appreciates this product better than  most. {'neg': 0.0, 'neu': 0.617, 'pos': 0.383, 'compound': 0.7351}\n",
      "Product arrived labeled as Jumbo Salted Peanuts...the peanuts were actually small sized unsalted. {'neg': 0.0, 'neu': 1.0, 'pos': 0.0, 'compound': 0.0}\n",
      "Not sure if this was an error or if the vendor intended to represent the product as \"Jumbo\". {'neg': 0.226, 'neu': 0.774, 'pos': 0.0, 'compound': -0.5664}\n",
      "This is a confection that has been around a few centuries. {'neg': 0.0, 'neu': 1.0, 'pos': 0.0, 'compound': 0.0}\n",
      "It is a light, pillowy citrus gelatin with nuts - in this case Filberts. {'neg': 0.173, 'neu': 0.827, 'pos': 0.0, 'compound': -0.3182}\n",
      "And it is cut into tiny squares and then liberally coated with powdered sugar. {'neg': 0.139, 'neu': 0.861, 'pos': 0.0, 'compound': -0.2732}\n",
      "And it is a tiny mouthful of heaven. {'neg': 0.0, 'neu': 0.645, 'pos': 0.355, 'compound': 0.5106}\n",
      "Not too chewy, and very flavorful. {'neg': 0.0, 'neu': 1.0, 'pos': 0.0, 'compound': 0.0}\n",
      "I highly recommend this yummy treat. {'neg': 0.0, 'neu': 0.169, 'pos': 0.831, 'compound': 0.8696}\n",
      "If you are familiar with the story of C.S. {'neg': 0.0, 'neu': 1.0, 'pos': 0.0, 'compound': 0.0}\n",
      "Lewis' \"The Lion, The Witch, and The Wardrobe\" - this is the treat that seduces Edmund into selling out his Brother and Sisters to the Witch. {'neg': 0.168, 'neu': 0.741, 'pos': 0.091, 'compound': -0.3182}\n",
      "If you are looking for the secret ingredient in Robitussin I believe I have found it. {'neg': 0.0, 'neu': 1.0, 'pos': 0.0, 'compound': 0.0}\n",
      "I got this in addition to the Root Beer Extract I ordered (which was good) and made some cherry soda. {'neg': 0.0, 'neu': 1.0, 'pos': 0.0, 'compound': 0.0}\n",
      "The flavor is very medicinal. {'neg': 0.0, 'neu': 1.0, 'pos': 0.0, 'compound': 0.0}\n",
      "Great taffy at a great price. {'neg': 0.0, 'neu': 0.268, 'pos': 0.732, 'compound': 0.8481}\n",
      "There was a wide assortment of yummy taffy. {'neg': 0.0, 'neu': 0.638, 'pos': 0.362, 'compound': 0.5267}\n",
      "Delivery was very quick. {'neg': 0.0, 'neu': 1.0, 'pos': 0.0, 'compound': 0.0}\n",
      "If your a taffy lover, this is a deal. {'neg': 0.0, 'neu': 0.612, 'pos': 0.388, 'compound': 0.5859}\n"
     ]
    }
   ],
   "source": [
    "sid = SentimentIntensityAnalyzer()\n",
    "for row in df[:5].itertuples():\n",
    "    text = row.Text\n",
    "    for sentence in sent_tokenize(text):\n",
    "        print(sentence, sid.polarity_scores(sentence))"
   ]
  },
  {
   "cell_type": "code",
   "execution_count": 60,
   "metadata": {
    "ExecuteTime": {
     "end_time": "2021-09-19T06:11:28.249581Z",
     "start_time": "2021-09-19T06:11:28.243539Z"
    },
    "hidden": true
   },
   "outputs": [],
   "source": [
    "def sentiment(text:str) -> float:\n",
    "    scores = [sid.polarity_scores(sentence)['compound'] for sentence in sent_tokenize(text)]\n",
    "    return mean(scores)"
   ]
  },
  {
   "cell_type": "code",
   "execution_count": 61,
   "metadata": {
    "ExecuteTime": {
     "end_time": "2021-09-19T06:23:05.147683Z",
     "start_time": "2021-09-19T06:12:03.523626Z"
    },
    "hidden": true
   },
   "outputs": [],
   "source": [
    "df['sentiment'] = df['Text'].apply(sentiment)"
   ]
  },
  {
   "cell_type": "code",
   "execution_count": 64,
   "metadata": {
    "ExecuteTime": {
     "end_time": "2021-09-19T06:29:40.608491Z",
     "start_time": "2021-09-19T06:29:40.496688Z"
    },
    "hidden": true
   },
   "outputs": [
    {
     "data": {
      "text/html": [
       "<div>\n",
       "<style scoped>\n",
       "    .dataframe tbody tr th:only-of-type {\n",
       "        vertical-align: middle;\n",
       "    }\n",
       "\n",
       "    .dataframe tbody tr th {\n",
       "        vertical-align: top;\n",
       "    }\n",
       "\n",
       "    .dataframe thead th {\n",
       "        text-align: right;\n",
       "    }\n",
       "</style>\n",
       "<table border=\"1\" class=\"dataframe\">\n",
       "  <thead>\n",
       "    <tr style=\"text-align: right;\">\n",
       "      <th></th>\n",
       "      <th>Id</th>\n",
       "      <th>HelpfulnessNumerator</th>\n",
       "      <th>HelpfulnessDenominator</th>\n",
       "      <th>Score</th>\n",
       "      <th>Time</th>\n",
       "      <th>sentiment</th>\n",
       "    </tr>\n",
       "  </thead>\n",
       "  <tbody>\n",
       "    <tr>\n",
       "      <th>Id</th>\n",
       "      <td>1.000000</td>\n",
       "      <td>0.001227</td>\n",
       "      <td>0.000770</td>\n",
       "      <td>0.010706</td>\n",
       "      <td>0.007912</td>\n",
       "      <td>0.005089</td>\n",
       "    </tr>\n",
       "    <tr>\n",
       "      <th>HelpfulnessNumerator</th>\n",
       "      <td>0.001227</td>\n",
       "      <td>1.000000</td>\n",
       "      <td>0.974689</td>\n",
       "      <td>-0.032590</td>\n",
       "      <td>-0.154818</td>\n",
       "      <td>-0.045123</td>\n",
       "    </tr>\n",
       "    <tr>\n",
       "      <th>HelpfulnessDenominator</th>\n",
       "      <td>0.000770</td>\n",
       "      <td>0.974689</td>\n",
       "      <td>1.000000</td>\n",
       "      <td>-0.097986</td>\n",
       "      <td>-0.173289</td>\n",
       "      <td>-0.077543</td>\n",
       "    </tr>\n",
       "    <tr>\n",
       "      <th>Score</th>\n",
       "      <td>0.010706</td>\n",
       "      <td>-0.032590</td>\n",
       "      <td>-0.097986</td>\n",
       "      <td>1.000000</td>\n",
       "      <td>-0.062760</td>\n",
       "      <td>0.470667</td>\n",
       "    </tr>\n",
       "    <tr>\n",
       "      <th>Time</th>\n",
       "      <td>0.007912</td>\n",
       "      <td>-0.154818</td>\n",
       "      <td>-0.173289</td>\n",
       "      <td>-0.062760</td>\n",
       "      <td>1.000000</td>\n",
       "      <td>-0.037347</td>\n",
       "    </tr>\n",
       "    <tr>\n",
       "      <th>sentiment</th>\n",
       "      <td>0.005089</td>\n",
       "      <td>-0.045123</td>\n",
       "      <td>-0.077543</td>\n",
       "      <td>0.470667</td>\n",
       "      <td>-0.037347</td>\n",
       "      <td>1.000000</td>\n",
       "    </tr>\n",
       "  </tbody>\n",
       "</table>\n",
       "</div>"
      ],
      "text/plain": [
       "                              Id  HelpfulnessNumerator  \\\n",
       "Id                      1.000000              0.001227   \n",
       "HelpfulnessNumerator    0.001227              1.000000   \n",
       "HelpfulnessDenominator  0.000770              0.974689   \n",
       "Score                   0.010706             -0.032590   \n",
       "Time                    0.007912             -0.154818   \n",
       "sentiment               0.005089             -0.045123   \n",
       "\n",
       "                        HelpfulnessDenominator     Score      Time  sentiment  \n",
       "Id                                    0.000770  0.010706  0.007912   0.005089  \n",
       "HelpfulnessNumerator                  0.974689 -0.032590 -0.154818  -0.045123  \n",
       "HelpfulnessDenominator                1.000000 -0.097986 -0.173289  -0.077543  \n",
       "Score                                -0.097986  1.000000 -0.062760   0.470667  \n",
       "Time                                 -0.173289 -0.062760  1.000000  -0.037347  \n",
       "sentiment                            -0.077543  0.470667 -0.037347   1.000000  "
      ]
     },
     "execution_count": 64,
     "metadata": {},
     "output_type": "execute_result"
    }
   ],
   "source": [
    "df.corr()"
   ]
  },
  {
   "cell_type": "code",
   "execution_count": null,
   "metadata": {
    "hidden": true
   },
   "outputs": [],
   "source": []
  },
  {
   "cell_type": "code",
   "execution_count": null,
   "metadata": {
    "hidden": true
   },
   "outputs": [],
   "source": []
  },
  {
   "cell_type": "markdown",
   "metadata": {},
   "source": [
    "# Recommendations"
   ]
  },
  {
   "cell_type": "markdown",
   "metadata": {
    "ExecuteTime": {
     "end_time": "2021-09-19T06:23:05.220181Z",
     "start_time": "2021-09-19T06:23:05.216942Z"
    },
    "heading_collapsed": true
   },
   "source": [
    "## Exploratory analysis for recommendation"
   ]
  },
  {
   "cell_type": "code",
   "execution_count": 67,
   "metadata": {
    "ExecuteTime": {
     "end_time": "2021-09-19T06:30:52.365695Z",
     "start_time": "2021-09-19T06:30:52.121254Z"
    },
    "hidden": true
   },
   "outputs": [
    {
     "name": "stdout",
     "output_type": "stream",
     "text": [
      "74258 256059\n"
     ]
    }
   ],
   "source": [
    "print(df['ProductId'].nunique(), df['UserId'].nunique())"
   ]
  },
  {
   "cell_type": "code",
   "execution_count": 85,
   "metadata": {
    "ExecuteTime": {
     "end_time": "2021-09-19T09:28:00.372149Z",
     "start_time": "2021-09-19T09:28:00.045360Z"
    },
    "hidden": true
   },
   "outputs": [],
   "source": [
    "users_per_product = df.groupby('ProductId')['UserId'].nunique()"
   ]
  },
  {
   "cell_type": "code",
   "execution_count": 86,
   "metadata": {
    "ExecuteTime": {
     "end_time": "2021-09-19T09:28:10.380402Z",
     "start_time": "2021-09-19T09:28:10.372756Z"
    },
    "hidden": true
   },
   "outputs": [
    {
     "data": {
      "text/plain": [
       "7.552102130410192"
      ]
     },
     "execution_count": 86,
     "metadata": {},
     "output_type": "execute_result"
    }
   ],
   "source": [
    "users_per_product.mean()"
   ]
  },
  {
   "cell_type": "code",
   "execution_count": 87,
   "metadata": {
    "ExecuteTime": {
     "end_time": "2021-09-19T09:28:14.574863Z",
     "start_time": "2021-09-19T09:28:14.565115Z"
    },
    "hidden": true
   },
   "outputs": [
    {
     "data": {
      "text/plain": [
       "2.0"
      ]
     },
     "execution_count": 87,
     "metadata": {},
     "output_type": "execute_result"
    }
   ],
   "source": [
    "users_per_product.median()"
   ]
  },
  {
   "cell_type": "code",
   "execution_count": 88,
   "metadata": {
    "ExecuteTime": {
     "end_time": "2021-09-19T09:28:18.963907Z",
     "start_time": "2021-09-19T09:28:18.654376Z"
    },
    "hidden": true
   },
   "outputs": [
    {
     "data": {
      "text/plain": [
       "<AxesSubplot:>"
      ]
     },
     "execution_count": 88,
     "metadata": {},
     "output_type": "execute_result"
    },
    {
     "data": {
      "image/png": "[encoded data removed]",
      "text/plain": [
       "<Figure size 1440x720 with 1 Axes>"
      ]
     },
     "metadata": {
      "needs_background": "light"
     },
     "output_type": "display_data"
    }
   ],
   "source": [
    "users_per_product.hist(bins=100)"
   ]
  },
  {
   "cell_type": "code",
   "execution_count": 110,
   "metadata": {
    "ExecuteTime": {
     "end_time": "2021-09-20T06:57:49.528149Z",
     "start_time": "2021-09-20T06:57:49.516007Z"
    },
    "hidden": true
   },
   "outputs": [
    {
     "data": {
      "text/plain": [
       "UserId\n",
       "1     30437\n",
       "2     12258\n",
       "3      6863\n",
       "4      4308\n",
       "5      3109\n",
       "6      2231\n",
       "7      1840\n",
       "8      1433\n",
       "9      1205\n",
       "10      999\n",
       "11      826\n",
       "12      744\n",
       "13      621\n",
       "14      528\n",
       "15      502\n",
       "16      358\n",
       "17      356\n",
       "18      337\n",
       "19      288\n",
       "21      280\n",
       "Name: UserId, dtype: int64"
      ]
     },
     "execution_count": 110,
     "metadata": {},
     "output_type": "execute_result"
    }
   ],
   "source": [
    "users_per_product.groupby(users_per_product).count().sort_values(ascending=False).head(20)"
   ]
  },
  {
   "cell_type": "code",
   "execution_count": 98,
   "metadata": {
    "ExecuteTime": {
     "end_time": "2021-09-19T09:33:36.639336Z",
     "start_time": "2021-09-19T09:33:35.979468Z"
    },
    "hidden": true
   },
   "outputs": [],
   "source": [
    "products_per_user = df.groupby('UserId')['ProductId'].nunique()"
   ]
  },
  {
   "cell_type": "code",
   "execution_count": 77,
   "metadata": {
    "ExecuteTime": {
     "end_time": "2021-09-19T06:36:48.342603Z",
     "start_time": "2021-09-19T06:36:47.772059Z"
    },
    "hidden": true
   },
   "outputs": [
    {
     "data": {
      "text/plain": [
       "2.190135867124374"
      ]
     },
     "execution_count": 77,
     "metadata": {},
     "output_type": "execute_result"
    }
   ],
   "source": [
    "products_per_user.mean()"
   ]
  },
  {
   "cell_type": "code",
   "execution_count": 75,
   "metadata": {
    "ExecuteTime": {
     "end_time": "2021-09-19T06:36:15.381581Z",
     "start_time": "2021-09-19T06:36:14.728847Z"
    },
    "hidden": true
   },
   "outputs": [
    {
     "data": {
      "text/plain": [
       "1.0"
      ]
     },
     "execution_count": 75,
     "metadata": {},
     "output_type": "execute_result"
    }
   ],
   "source": [
    "products_per_user.median()"
   ]
  },
  {
   "cell_type": "code",
   "execution_count": 83,
   "metadata": {
    "ExecuteTime": {
     "end_time": "2021-09-19T09:25:29.844303Z",
     "start_time": "2021-09-19T09:25:28.889392Z"
    },
    "hidden": true
   },
   "outputs": [
    {
     "data": {
      "text/plain": [
       "<AxesSubplot:>"
      ]
     },
     "execution_count": 83,
     "metadata": {},
     "output_type": "execute_result"
    },
    {
     "data": {
      "image/png": "[encoded data removed]",
      "text/plain": [
       "<Figure size 1440x720 with 1 Axes>"
      ]
     },
     "metadata": {
      "needs_background": "light"
     },
     "output_type": "display_data"
    }
   ],
   "source": [
    "products_per_user.hist(bins=100)"
   ]
  },
  {
   "cell_type": "code",
   "execution_count": 130,
   "metadata": {
    "ExecuteTime": {
     "end_time": "2021-09-20T08:26:16.542434Z",
     "start_time": "2021-09-20T08:26:16.525585Z"
    },
    "hidden": true
   },
   "outputs": [
    {
     "data": {
      "text/plain": [
       "ProductId\n",
       "1     175464\n",
       "2      32672\n",
       "3      13887\n",
       "4      10640\n",
       "5       5492\n",
       "6       4139\n",
       "7       2697\n",
       "8       1918\n",
       "9       1827\n",
       "10      1218\n",
       "11       999\n",
       "12       829\n",
       "14       619\n",
       "13       561\n",
       "15       397\n",
       "16       297\n",
       "17       279\n",
       "18       208\n",
       "19       176\n",
       "25       176\n",
       "Name: ProductId, dtype: int64"
      ]
     },
     "execution_count": 130,
     "metadata": {},
     "output_type": "execute_result"
    }
   ],
   "source": [
    "products_per_user.groupby(products_per_user).count().sort_values(ascending=False).head(20)"
   ]
  },
  {
   "cell_type": "markdown",
   "metadata": {
    "heading_collapsed": true
   },
   "source": [
    "## Most popular products"
   ]
  },
  {
   "cell_type": "code",
   "execution_count": 33,
   "metadata": {
    "ExecuteTime": {
     "end_time": "2021-09-24T06:18:06.394142Z",
     "start_time": "2021-09-24T06:18:06.221132Z"
    },
    "hidden": true
   },
   "outputs": [],
   "source": [
    "product_features = df.groupby('ProductId') \\\n",
    "                     .agg({'Score':['median', 'mean', 'count']}) #, 'sentiment':'median'})"
   ]
  },
  {
   "cell_type": "code",
   "execution_count": 34,
   "metadata": {
    "ExecuteTime": {
     "end_time": "2021-09-24T06:18:08.291905Z",
     "start_time": "2021-09-24T06:18:08.289001Z"
    },
    "hidden": true
   },
   "outputs": [],
   "source": [
    "product_features.columns = [\"_\".join(a) for a in product_features.columns.to_flat_index()]"
   ]
  },
  {
   "cell_type": "code",
   "execution_count": 37,
   "metadata": {
    "ExecuteTime": {
     "end_time": "2021-09-24T06:18:45.126033Z",
     "start_time": "2021-09-24T06:18:45.100961Z"
    },
    "hidden": true
   },
   "outputs": [
    {
     "data": {
      "text/html": [
       "<div>\n",
       "<style scoped>\n",
       "    .dataframe tbody tr th:only-of-type {\n",
       "        vertical-align: middle;\n",
       "    }\n",
       "\n",
       "    .dataframe tbody tr th {\n",
       "        vertical-align: top;\n",
       "    }\n",
       "\n",
       "    .dataframe thead th {\n",
       "        text-align: right;\n",
       "    }\n",
       "</style>\n",
       "<table border=\"1\" class=\"dataframe\">\n",
       "  <thead>\n",
       "    <tr style=\"text-align: right;\">\n",
       "      <th></th>\n",
       "      <th>Score_median</th>\n",
       "      <th>Score_mean</th>\n",
       "      <th>Score_count</th>\n",
       "    </tr>\n",
       "    <tr>\n",
       "      <th>ProductId</th>\n",
       "      <th></th>\n",
       "      <th></th>\n",
       "      <th></th>\n",
       "    </tr>\n",
       "  </thead>\n",
       "  <tbody>\n",
       "    <tr>\n",
       "      <th>B007JFMH8M</th>\n",
       "      <td>5.0</td>\n",
       "      <td>4.582694</td>\n",
       "      <td>913</td>\n",
       "    </tr>\n",
       "    <tr>\n",
       "      <th>B002QWHJOU</th>\n",
       "      <td>5.0</td>\n",
       "      <td>4.588608</td>\n",
       "      <td>632</td>\n",
       "    </tr>\n",
       "    <tr>\n",
       "      <th>B002QWP89S</th>\n",
       "      <td>5.0</td>\n",
       "      <td>4.588608</td>\n",
       "      <td>632</td>\n",
       "    </tr>\n",
       "    <tr>\n",
       "      <th>B002QWP8H0</th>\n",
       "      <td>5.0</td>\n",
       "      <td>4.588608</td>\n",
       "      <td>632</td>\n",
       "    </tr>\n",
       "    <tr>\n",
       "      <th>B0026RQTGE</th>\n",
       "      <td>5.0</td>\n",
       "      <td>4.588608</td>\n",
       "      <td>632</td>\n",
       "    </tr>\n",
       "    <tr>\n",
       "      <th>B003B3OOPA</th>\n",
       "      <td>5.0</td>\n",
       "      <td>4.739968</td>\n",
       "      <td>623</td>\n",
       "    </tr>\n",
       "    <tr>\n",
       "      <th>B001EO5Q64</th>\n",
       "      <td>5.0</td>\n",
       "      <td>4.746032</td>\n",
       "      <td>567</td>\n",
       "    </tr>\n",
       "    <tr>\n",
       "      <th>B001RVFEP2</th>\n",
       "      <td>5.0</td>\n",
       "      <td>4.310284</td>\n",
       "      <td>564</td>\n",
       "    </tr>\n",
       "    <tr>\n",
       "      <th>B0026KPDG8</th>\n",
       "      <td>5.0</td>\n",
       "      <td>4.310284</td>\n",
       "      <td>564</td>\n",
       "    </tr>\n",
       "    <tr>\n",
       "      <th>B006HYLW32</th>\n",
       "      <td>5.0</td>\n",
       "      <td>4.310284</td>\n",
       "      <td>564</td>\n",
       "    </tr>\n",
       "    <tr>\n",
       "      <th>B000VK8AVK</th>\n",
       "      <td>5.0</td>\n",
       "      <td>4.310284</td>\n",
       "      <td>564</td>\n",
       "    </tr>\n",
       "    <tr>\n",
       "      <th>B007M83302</th>\n",
       "      <td>5.0</td>\n",
       "      <td>4.310284</td>\n",
       "      <td>564</td>\n",
       "    </tr>\n",
       "    <tr>\n",
       "      <th>B001RVFERK</th>\n",
       "      <td>5.0</td>\n",
       "      <td>4.310284</td>\n",
       "      <td>564</td>\n",
       "    </tr>\n",
       "    <tr>\n",
       "      <th>B0013NUGDE</th>\n",
       "      <td>5.0</td>\n",
       "      <td>4.310284</td>\n",
       "      <td>564</td>\n",
       "    </tr>\n",
       "    <tr>\n",
       "      <th>B0026KNQSA</th>\n",
       "      <td>5.0</td>\n",
       "      <td>4.310284</td>\n",
       "      <td>564</td>\n",
       "    </tr>\n",
       "    <tr>\n",
       "      <th>B007M832YY</th>\n",
       "      <td>5.0</td>\n",
       "      <td>4.310284</td>\n",
       "      <td>564</td>\n",
       "    </tr>\n",
       "    <tr>\n",
       "      <th>B005K4Q37A</th>\n",
       "      <td>5.0</td>\n",
       "      <td>3.819188</td>\n",
       "      <td>542</td>\n",
       "    </tr>\n",
       "    <tr>\n",
       "      <th>B000NMJWZO</th>\n",
       "      <td>5.0</td>\n",
       "      <td>4.881919</td>\n",
       "      <td>542</td>\n",
       "    </tr>\n",
       "    <tr>\n",
       "      <th>B005K4Q4LK</th>\n",
       "      <td>5.0</td>\n",
       "      <td>3.819188</td>\n",
       "      <td>542</td>\n",
       "    </tr>\n",
       "    <tr>\n",
       "      <th>B000UBD88A</th>\n",
       "      <td>5.0</td>\n",
       "      <td>4.343173</td>\n",
       "      <td>542</td>\n",
       "    </tr>\n",
       "  </tbody>\n",
       "</table>\n",
       "</div>"
      ],
      "text/plain": [
       "            Score_median  Score_mean  Score_count\n",
       "ProductId                                        \n",
       "B007JFMH8M           5.0    4.582694          913\n",
       "B002QWHJOU           5.0    4.588608          632\n",
       "B002QWP89S           5.0    4.588608          632\n",
       "B002QWP8H0           5.0    4.588608          632\n",
       "B0026RQTGE           5.0    4.588608          632\n",
       "B003B3OOPA           5.0    4.739968          623\n",
       "B001EO5Q64           5.0    4.746032          567\n",
       "B001RVFEP2           5.0    4.310284          564\n",
       "B0026KPDG8           5.0    4.310284          564\n",
       "B006HYLW32           5.0    4.310284          564\n",
       "B000VK8AVK           5.0    4.310284          564\n",
       "B007M83302           5.0    4.310284          564\n",
       "B001RVFERK           5.0    4.310284          564\n",
       "B0013NUGDE           5.0    4.310284          564\n",
       "B0026KNQSA           5.0    4.310284          564\n",
       "B007M832YY           5.0    4.310284          564\n",
       "B005K4Q37A           5.0    3.819188          542\n",
       "B000NMJWZO           5.0    4.881919          542\n",
       "B005K4Q4LK           5.0    3.819188          542\n",
       "B000UBD88A           5.0    4.343173          542"
      ]
     },
     "execution_count": 37,
     "metadata": {},
     "output_type": "execute_result"
    }
   ],
   "source": [
    "# most popular products to recommend to everyone \n",
    "product_features[product_features['Score_median']==5].sort_values(by=['Score_count'], ascending=False).head(20)"
   ]
  },
  {
   "cell_type": "markdown",
   "metadata": {
    "heading_collapsed": true
   },
   "source": [
    "## Collaborative filtering"
   ]
  },
  {
   "cell_type": "markdown",
   "metadata": {
    "hidden": true
   },
   "source": [
    "1. Content-based fitering - requires item similarity measure and there's no data to build one \n",
    "2. Collaborative user-user\n",
    "3. Collaborative item-item"
   ]
  },
  {
   "cell_type": "code",
   "execution_count": 185,
   "metadata": {
    "ExecuteTime": {
     "end_time": "2021-09-20T14:38:27.481436Z",
     "start_time": "2021-09-20T14:38:27.376773Z"
    },
    "hidden": true
   },
   "outputs": [
    {
     "data": {
      "text/plain": [
       "index        334326\n",
       "Time     1326412800\n",
       "Name: 378970, dtype: int64"
      ]
     },
     "execution_count": 185,
     "metadata": {},
     "output_type": "execute_result"
    }
   ],
   "source": [
    "df['Time'].sort_values().reset_index().iloc[len(df)*2//3]"
   ]
  },
  {
   "cell_type": "code",
   "execution_count": 6,
   "metadata": {
    "ExecuteTime": {
     "end_time": "2021-09-23T08:39:21.259009Z",
     "start_time": "2021-09-23T08:39:21.157348Z"
    },
    "hidden": true
   },
   "outputs": [
    {
     "data": {
      "text/plain": [
       "(378584, 189870)"
      ]
     },
     "execution_count": 6,
     "metadata": {},
     "output_type": "execute_result"
    }
   ],
   "source": [
    "(len(df[df['Time']<1326412800]), len(df[df['Time']>=1326412800]))"
   ]
  },
  {
   "cell_type": "code",
   "execution_count": 4,
   "metadata": {
    "ExecuteTime": {
     "end_time": "2021-09-24T09:35:31.576402Z",
     "start_time": "2021-09-24T09:35:30.222952Z"
    },
    "hidden": true
   },
   "outputs": [],
   "source": [
    "df_train = df[df['Time']<1326412800][['UserId', 'ProductId', 'Score']]\n",
    "df_test = df[df['Time']>=1326412800][['UserId', 'ProductId', 'Score']]\n",
    "\n",
    "df_train['user_id'] = df_train['UserId'].factorize()[0]\n",
    "df_train['product_id'] = df_train['ProductId'].factorize()[0]\n",
    "\n",
    "n_users = df_train.user_id.nunique()\n",
    "n_products = df_train.product_id.nunique()\n",
    "\n",
    "user_product = np.zeros((n_users, n_products), dtype=np.int8)\n",
    "for row in df_train.itertuples():\n",
    "    user_product[row.user_id, row.product_id] = int(row.Score)"
   ]
  },
  {
   "cell_type": "code",
   "execution_count": 5,
   "metadata": {
    "ExecuteTime": {
     "end_time": "2021-09-23T08:32:15.833103Z",
     "start_time": "2021-09-23T08:32:15.826912Z"
    },
    "hidden": true
   },
   "outputs": [
    {
     "data": {
      "text/plain": [
       "array([[5, 0, 0, ..., 0, 0, 0],\n",
       "       [0, 4, 0, ..., 0, 0, 0],\n",
       "       [0, 0, 2, ..., 0, 0, 0],\n",
       "       ...,\n",
       "       [0, 0, 0, ..., 0, 5, 0],\n",
       "       [0, 0, 0, ..., 0, 0, 5],\n",
       "       [0, 0, 0, ..., 0, 0, 5]], dtype=int8)"
      ]
     },
     "execution_count": 5,
     "metadata": {},
     "output_type": "execute_result"
    }
   ],
   "source": [
    "user_product"
   ]
  },
  {
   "cell_type": "code",
   "execution_count": 5,
   "metadata": {
    "ExecuteTime": {
     "end_time": "2021-09-23T09:42:59.380819Z",
     "start_time": "2021-09-23T08:41:24.787773Z"
    },
    "hidden": true
   },
   "outputs": [],
   "source": [
    "# user similarity not computed due to memory issues. May be done by parts.\n",
    "# user_similarity = pairwise_distances(user_product, metric='cosine')\n",
    "product_similarity = pairwise_distances(user_product.T, metric='cosine', n_jobs=2)"
   ]
  },
  {
   "cell_type": "code",
   "execution_count": 43,
   "metadata": {
    "ExecuteTime": {
     "end_time": "2021-09-24T08:27:36.656855Z",
     "start_time": "2021-09-24T08:25:48.142162Z"
    },
    "hidden": true
   },
   "outputs": [],
   "source": [
    "# np.save('product_similarity', product_similarity)\n",
    "product_similarity = np.load('product_similarity.npy')"
   ]
  },
  {
   "cell_type": "code",
   "execution_count": 48,
   "metadata": {
    "ExecuteTime": {
     "end_time": "2021-09-24T08:44:48.971900Z",
     "start_time": "2021-09-24T08:29:38.963643Z"
    },
    "hidden": true
   },
   "outputs": [],
   "source": [
    "def predict(ratings, similarity, type='user'):\n",
    "    if type == 'user':\n",
    "        mean_user_rating = ratings.mean(axis=1)\n",
    "        ratings_diff = (ratings - mean_user_rating[:, np.newaxis])\n",
    "        pred = mean_user_rating[:, np.newaxis] + similarity.dot(ratings_diff) / np.array([np.abs(similarity).sum(axis=1)]).T\n",
    "    elif type == 'item':\n",
    "        pred = ratings.dot(similarity) / np.array([np.abs(similarity).sum(axis=1)])\n",
    "    return pred\n",
    "\n",
    "# user_prediction = predict(user_product, user_similarity, type='user')\n",
    "product_prediction = predict(user_product, product_similarity, type='item')\n",
    "np.save('product_prediction', product_prediction)"
   ]
  },
  {
   "cell_type": "markdown",
   "metadata": {
    "ExecuteTime": {
     "end_time": "2021-09-23T06:01:26.649417Z",
     "start_time": "2021-09-23T06:01:26.645129Z"
    },
    "heading_collapsed": true
   },
   "source": [
    "## Matrix factorization"
   ]
  },
  {
   "cell_type": "code",
   "execution_count": null,
   "metadata": {
    "ExecuteTime": {
     "end_time": "2021-09-23T21:51:36.037978Z",
     "start_time": "2021-09-23T21:50:08.261385Z"
    },
    "hidden": true
   },
   "outputs": [],
   "source": [
    "from sklearn.decomposition import NMF\n",
    "# there's no good loss function\n",
    "nmf_model = NMF(20)\n",
    "W = nmf_model.fit_transform(user_product)\n",
    "predictions = W @ nmf_model.components_"
   ]
  },
  {
   "cell_type": "code",
   "execution_count": 13,
   "metadata": {
    "ExecuteTime": {
     "end_time": "2021-09-23T21:36:41.458611Z",
     "start_time": "2021-09-23T21:32:54.881457Z"
    },
    "hidden": true
   },
   "outputs": [
    {
     "data": {
      "text/plain": [
       "18.386782048921443"
      ]
     },
     "execution_count": 13,
     "metadata": {},
     "output_type": "execute_result"
    }
   ],
   "source": [
    "# MSE for non-zero values (existing recommendations)\n",
    "np.sum((user_product-np.where(user_product>0, predictions, 0))**2)/(user_product!=0).sum(1).sum()"
   ]
  },
  {
   "cell_type": "markdown",
   "metadata": {
    "hidden": true
   },
   "source": [
    "Факторизация не работает, тк нужна другая норма, не учитывающая расстояния до 0 (отсутствующих наблюдений). В библиотеке такую не нашёл, надо поискать ещё или сделать.\n",
    "<br> TODO попробовать SVD"
   ]
  },
  {
   "cell_type": "markdown",
   "metadata": {
    "heading_collapsed": true
   },
   "source": [
    "## Turicreate"
   ]
  },
  {
   "cell_type": "code",
   "execution_count": 12,
   "metadata": {
    "ExecuteTime": {
     "end_time": "2021-09-24T09:54:33.414093Z",
     "start_time": "2021-09-24T09:54:14.739556Z"
    },
    "hidden": true
   },
   "outputs": [
    {
     "data": {
      "text/html": [
       "<pre>Warning: Ignoring columns user_id, product_id;</pre>"
      ],
      "text/plain": [
       "Warning: Ignoring columns user_id, product_id;"
      ]
     },
     "metadata": {},
     "output_type": "display_data"
    },
    {
     "data": {
      "text/html": [
       "<pre>    To use these columns in scoring predictions, use a model that allows the use of additional features.</pre>"
      ],
      "text/plain": [
       "    To use these columns in scoring predictions, use a model that allows the use of additional features."
      ]
     },
     "metadata": {},
     "output_type": "display_data"
    },
    {
     "data": {
      "text/html": [
       "<pre>Preparing data set.</pre>"
      ],
      "text/plain": [
       "Preparing data set."
      ]
     },
     "metadata": {},
     "output_type": "display_data"
    },
    {
     "data": {
      "text/html": [
       "<pre>    Data has 378584 observations with 175347 users and 53709 items.</pre>"
      ],
      "text/plain": [
       "    Data has 378584 observations with 175347 users and 53709 items."
      ]
     },
     "metadata": {},
     "output_type": "display_data"
    },
    {
     "data": {
      "text/html": [
       "<pre>    Data prepared in: 0.3083s</pre>"
      ],
      "text/plain": [
       "    Data prepared in: 0.3083s"
      ]
     },
     "metadata": {},
     "output_type": "display_data"
    },
    {
     "data": {
      "text/html": [
       "<pre>378584 observations to process; with 53709 unique items.</pre>"
      ],
      "text/plain": [
       "378584 observations to process; with 53709 unique items."
      ]
     },
     "metadata": {},
     "output_type": "display_data"
    },
    {
     "data": {
      "text/html": [
       "<pre>Warning: Ignoring columns user_id, product_id;</pre>"
      ],
      "text/plain": [
       "Warning: Ignoring columns user_id, product_id;"
      ]
     },
     "metadata": {},
     "output_type": "display_data"
    },
    {
     "data": {
      "text/html": [
       "<pre>    To use these columns in scoring predictions, use a model that allows the use of additional features.</pre>"
      ],
      "text/plain": [
       "    To use these columns in scoring predictions, use a model that allows the use of additional features."
      ]
     },
     "metadata": {},
     "output_type": "display_data"
    },
    {
     "data": {
      "text/html": [
       "<pre>Preparing data set.</pre>"
      ],
      "text/plain": [
       "Preparing data set."
      ]
     },
     "metadata": {},
     "output_type": "display_data"
    },
    {
     "data": {
      "text/html": [
       "<pre>    Data has 378584 observations with 175347 users and 53709 items.</pre>"
      ],
      "text/plain": [
       "    Data has 378584 observations with 175347 users and 53709 items."
      ]
     },
     "metadata": {},
     "output_type": "display_data"
    },
    {
     "data": {
      "text/html": [
       "<pre>    Data prepared in: 0.303207s</pre>"
      ],
      "text/plain": [
       "    Data prepared in: 0.303207s"
      ]
     },
     "metadata": {},
     "output_type": "display_data"
    },
    {
     "data": {
      "text/html": [
       "<pre>Training model from provided data.</pre>"
      ],
      "text/plain": [
       "Training model from provided data."
      ]
     },
     "metadata": {},
     "output_type": "display_data"
    },
    {
     "data": {
      "text/html": [
       "<pre>Gathering per-item and per-user statistics.</pre>"
      ],
      "text/plain": [
       "Gathering per-item and per-user statistics."
      ]
     },
     "metadata": {},
     "output_type": "display_data"
    },
    {
     "data": {
      "text/html": [
       "<pre>+--------------------------------+------------+</pre>"
      ],
      "text/plain": [
       "+--------------------------------+------------+"
      ]
     },
     "metadata": {},
     "output_type": "display_data"
    },
    {
     "data": {
      "text/html": [
       "<pre>| Elapsed Time (Item Statistics) | % Complete |</pre>"
      ],
      "text/plain": [
       "| Elapsed Time (Item Statistics) | % Complete |"
      ]
     },
     "metadata": {},
     "output_type": "display_data"
    },
    {
     "data": {
      "text/html": [
       "<pre>+--------------------------------+------------+</pre>"
      ],
      "text/plain": [
       "+--------------------------------+------------+"
      ]
     },
     "metadata": {},
     "output_type": "display_data"
    },
    {
     "data": {
      "text/html": [
       "<pre>| 1.484ms                        | 0.5        |</pre>"
      ],
      "text/plain": [
       "| 1.484ms                        | 0.5        |"
      ]
     },
     "metadata": {},
     "output_type": "display_data"
    },
    {
     "data": {
      "text/html": [
       "<pre>| 89.798ms                       | 100        |</pre>"
      ],
      "text/plain": [
       "| 89.798ms                       | 100        |"
      ]
     },
     "metadata": {},
     "output_type": "display_data"
    },
    {
     "data": {
      "text/html": [
       "<pre>+--------------------------------+------------+</pre>"
      ],
      "text/plain": [
       "+--------------------------------+------------+"
      ]
     },
     "metadata": {},
     "output_type": "display_data"
    },
    {
     "data": {
      "text/html": [
       "<pre>Setting up lookup tables.</pre>"
      ],
      "text/plain": [
       "Setting up lookup tables."
      ]
     },
     "metadata": {},
     "output_type": "display_data"
    },
    {
     "data": {
      "text/html": [
       "<pre>Processing data in 2 passes using dense lookup tables.</pre>"
      ],
      "text/plain": [
       "Processing data in 2 passes using dense lookup tables."
      ]
     },
     "metadata": {},
     "output_type": "display_data"
    },
    {
     "data": {
      "text/html": [
       "<pre>+-------------------------------------+------------------+-----------------+</pre>"
      ],
      "text/plain": [
       "+-------------------------------------+------------------+-----------------+"
      ]
     },
     "metadata": {},
     "output_type": "display_data"
    },
    {
     "data": {
      "text/html": [
       "<pre>| Elapsed Time (Constructing Lookups) | Total % Complete | Items Processed |</pre>"
      ],
      "text/plain": [
       "| Elapsed Time (Constructing Lookups) | Total % Complete | Items Processed |"
      ]
     },
     "metadata": {},
     "output_type": "display_data"
    },
    {
     "data": {
      "text/html": [
       "<pre>+-------------------------------------+------------------+-----------------+</pre>"
      ],
      "text/plain": [
       "+-------------------------------------+------------------+-----------------+"
      ]
     },
     "metadata": {},
     "output_type": "display_data"
    },
    {
     "data": {
      "text/html": [
       "<pre>| 3.96s                               | 0                | 1               |</pre>"
      ],
      "text/plain": [
       "| 3.96s                               | 0                | 1               |"
      ]
     },
     "metadata": {},
     "output_type": "display_data"
    },
    {
     "data": {
      "text/html": [
       "<pre>| 6.51s                               | 100              | 53709           |</pre>"
      ],
      "text/plain": [
       "| 6.51s                               | 100              | 53709           |"
      ]
     },
     "metadata": {},
     "output_type": "display_data"
    },
    {
     "data": {
      "text/html": [
       "<pre>+-------------------------------------+------------------+-----------------+</pre>"
      ],
      "text/plain": [
       "+-------------------------------------+------------------+-----------------+"
      ]
     },
     "metadata": {},
     "output_type": "display_data"
    },
    {
     "data": {
      "text/html": [
       "<pre>Finalizing lookup tables.</pre>"
      ],
      "text/plain": [
       "Finalizing lookup tables."
      ]
     },
     "metadata": {},
     "output_type": "display_data"
    },
    {
     "data": {
      "text/html": [
       "<pre>Generating candidate set for working with new users.</pre>"
      ],
      "text/plain": [
       "Generating candidate set for working with new users."
      ]
     },
     "metadata": {},
     "output_type": "display_data"
    },
    {
     "data": {
      "text/html": [
       "<pre>Finished training in 6.56497s</pre>"
      ],
      "text/plain": [
       "Finished training in 6.56497s"
      ]
     },
     "metadata": {},
     "output_type": "display_data"
    },
    {
     "data": {
      "text/html": [
       "<pre>Preparing data set.</pre>"
      ],
      "text/plain": [
       "Preparing data set."
      ]
     },
     "metadata": {},
     "output_type": "display_data"
    },
    {
     "data": {
      "text/html": [
       "<pre>    Data has 378584 observations with 175347 users and 53709 items.</pre>"
      ],
      "text/plain": [
       "    Data has 378584 observations with 175347 users and 53709 items."
      ]
     },
     "metadata": {},
     "output_type": "display_data"
    },
    {
     "data": {
      "text/html": [
       "<pre>    Data prepared in: 0.406758s</pre>"
      ],
      "text/plain": [
       "    Data prepared in: 0.406758s"
      ]
     },
     "metadata": {},
     "output_type": "display_data"
    },
    {
     "data": {
      "text/html": [
       "<pre>Training factorization_recommender for recommendations.</pre>"
      ],
      "text/plain": [
       "Training factorization_recommender for recommendations."
      ]
     },
     "metadata": {},
     "output_type": "display_data"
    },
    {
     "data": {
      "text/html": [
       "<pre>+--------------------------------+--------------------------------------------------+----------+</pre>"
      ],
      "text/plain": [
       "+--------------------------------+--------------------------------------------------+----------+"
      ]
     },
     "metadata": {},
     "output_type": "display_data"
    },
    {
     "data": {
      "text/html": [
       "<pre>| Parameter                      | Description                                      | Value    |</pre>"
      ],
      "text/plain": [
       "| Parameter                      | Description                                      | Value    |"
      ]
     },
     "metadata": {},
     "output_type": "display_data"
    },
    {
     "data": {
      "text/html": [
       "<pre>+--------------------------------+--------------------------------------------------+----------+</pre>"
      ],
      "text/plain": [
       "+--------------------------------+--------------------------------------------------+----------+"
      ]
     },
     "metadata": {},
     "output_type": "display_data"
    },
    {
     "data": {
      "text/html": [
       "<pre>| num_factors                    | Factor Dimension                                 | 8        |</pre>"
      ],
      "text/plain": [
       "| num_factors                    | Factor Dimension                                 | 8        |"
      ]
     },
     "metadata": {},
     "output_type": "display_data"
    },
    {
     "data": {
      "text/html": [
       "<pre>| regularization                 | L2 Regularization on Factors                     | 1e-08    |</pre>"
      ],
      "text/plain": [
       "| regularization                 | L2 Regularization on Factors                     | 1e-08    |"
      ]
     },
     "metadata": {},
     "output_type": "display_data"
    },
    {
     "data": {
      "text/html": [
       "<pre>| solver                         | Solver used for training                         | adagrad  |</pre>"
      ],
      "text/plain": [
       "| solver                         | Solver used for training                         | adagrad  |"
      ]
     },
     "metadata": {},
     "output_type": "display_data"
    },
    {
     "data": {
      "text/html": [
       "<pre>| linear_regularization          | L2 Regularization on Linear Coefficients         | 1e-10    |</pre>"
      ],
      "text/plain": [
       "| linear_regularization          | L2 Regularization on Linear Coefficients         | 1e-10    |"
      ]
     },
     "metadata": {},
     "output_type": "display_data"
    },
    {
     "data": {
      "text/html": [
       "<pre>| max_iterations                 | Maximum Number of Iterations                     | 50       |</pre>"
      ],
      "text/plain": [
       "| max_iterations                 | Maximum Number of Iterations                     | 50       |"
      ]
     },
     "metadata": {},
     "output_type": "display_data"
    },
    {
     "data": {
      "text/html": [
       "<pre>+--------------------------------+--------------------------------------------------+----------+</pre>"
      ],
      "text/plain": [
       "+--------------------------------+--------------------------------------------------+----------+"
      ]
     },
     "metadata": {},
     "output_type": "display_data"
    },
    {
     "data": {
      "text/html": [
       "<pre>  Optimizing model using SGD; tuning step size.</pre>"
      ],
      "text/plain": [
       "  Optimizing model using SGD; tuning step size."
      ]
     },
     "metadata": {},
     "output_type": "display_data"
    },
    {
     "data": {
      "text/html": [
       "<pre>  Using 47323 / 378584 points for tuning the step size.</pre>"
      ],
      "text/plain": [
       "  Using 47323 / 378584 points for tuning the step size."
      ]
     },
     "metadata": {},
     "output_type": "display_data"
    },
    {
     "data": {
      "text/html": [
       "<pre>+---------+-------------------+------------------------------------------+</pre>"
      ],
      "text/plain": [
       "+---------+-------------------+------------------------------------------+"
      ]
     },
     "metadata": {},
     "output_type": "display_data"
    },
    {
     "data": {
      "text/html": [
       "<pre>| Attempt | Initial Step Size | Estimated Objective Value                |</pre>"
      ],
      "text/plain": [
       "| Attempt | Initial Step Size | Estimated Objective Value                |"
      ]
     },
     "metadata": {},
     "output_type": "display_data"
    },
    {
     "data": {
      "text/html": [
       "<pre>+---------+-------------------+------------------------------------------+</pre>"
      ],
      "text/plain": [
       "+---------+-------------------+------------------------------------------+"
      ]
     },
     "metadata": {},
     "output_type": "display_data"
    },
    {
     "data": {
      "text/html": [
       "<pre>| 0       | 12.5              | Not Viable                               |</pre>"
      ],
      "text/plain": [
       "| 0       | 12.5              | Not Viable                               |"
      ]
     },
     "metadata": {},
     "output_type": "display_data"
    },
    {
     "data": {
      "text/html": [
       "<pre>| 1       | 3.125             | Not Viable                               |</pre>"
      ],
      "text/plain": [
       "| 1       | 3.125             | Not Viable                               |"
      ]
     },
     "metadata": {},
     "output_type": "display_data"
    },
    {
     "data": {
      "text/html": [
       "<pre>| 2       | 0.78125           | Not Viable                               |</pre>"
      ],
      "text/plain": [
       "| 2       | 0.78125           | Not Viable                               |"
      ]
     },
     "metadata": {},
     "output_type": "display_data"
    },
    {
     "data": {
      "text/html": [
       "<pre>| 3       | 0.195312          | Not Viable                               |</pre>"
      ],
      "text/plain": [
       "| 3       | 0.195312          | Not Viable                               |"
      ]
     },
     "metadata": {},
     "output_type": "display_data"
    },
    {
     "data": {
      "text/html": [
       "<pre>| 4       | 0.0488281         | 0.954782                                 |</pre>"
      ],
      "text/plain": [
       "| 4       | 0.0488281         | 0.954782                                 |"
      ]
     },
     "metadata": {},
     "output_type": "display_data"
    },
    {
     "data": {
      "text/html": [
       "<pre>| 5       | 0.0244141         | 0.880097                                 |</pre>"
      ],
      "text/plain": [
       "| 5       | 0.0244141         | 0.880097                                 |"
      ]
     },
     "metadata": {},
     "output_type": "display_data"
    },
    {
     "data": {
      "text/html": [
       "<pre>| 6       | 0.012207          | 1.26953                                  |</pre>"
      ],
      "text/plain": [
       "| 6       | 0.012207          | 1.26953                                  |"
      ]
     },
     "metadata": {},
     "output_type": "display_data"
    },
    {
     "data": {
      "text/html": [
       "<pre>| 7       | 0.00610352        | 1.57578                                  |</pre>"
      ],
      "text/plain": [
       "| 7       | 0.00610352        | 1.57578                                  |"
      ]
     },
     "metadata": {},
     "output_type": "display_data"
    },
    {
     "data": {
      "text/html": [
       "<pre>| 8       | 0.00305176        | 1.62538                                  |</pre>"
      ],
      "text/plain": [
       "| 8       | 0.00305176        | 1.62538                                  |"
      ]
     },
     "metadata": {},
     "output_type": "display_data"
    },
    {
     "data": {
      "text/html": [
       "<pre>+---------+-------------------+------------------------------------------+</pre>"
      ],
      "text/plain": [
       "+---------+-------------------+------------------------------------------+"
      ]
     },
     "metadata": {},
     "output_type": "display_data"
    },
    {
     "data": {
      "text/html": [
       "<pre>| Final   | 0.0244141         | 0.880097                                 |</pre>"
      ],
      "text/plain": [
       "| Final   | 0.0244141         | 0.880097                                 |"
      ]
     },
     "metadata": {},
     "output_type": "display_data"
    },
    {
     "data": {
      "text/html": [
       "<pre>+---------+-------------------+------------------------------------------+</pre>"
      ],
      "text/plain": [
       "+---------+-------------------+------------------------------------------+"
      ]
     },
     "metadata": {},
     "output_type": "display_data"
    },
    {
     "data": {
      "text/html": [
       "<pre>Starting Optimization.</pre>"
      ],
      "text/plain": [
       "Starting Optimization."
      ]
     },
     "metadata": {},
     "output_type": "display_data"
    },
    {
     "data": {
      "text/html": [
       "<pre>+---------+--------------+-------------------+-----------------------+-------------+</pre>"
      ],
      "text/plain": [
       "+---------+--------------+-------------------+-----------------------+-------------+"
      ]
     },
     "metadata": {},
     "output_type": "display_data"
    },
    {
     "data": {
      "text/html": [
       "<pre>| Iter.   | Elapsed Time | Approx. Objective | Approx. Training RMSE | Step Size   |</pre>"
      ],
      "text/plain": [
       "| Iter.   | Elapsed Time | Approx. Objective | Approx. Training RMSE | Step Size   |"
      ]
     },
     "metadata": {},
     "output_type": "display_data"
    },
    {
     "data": {
      "text/html": [
       "<pre>+---------+--------------+-------------------+-----------------------+-------------+</pre>"
      ],
      "text/plain": [
       "+---------+--------------+-------------------+-----------------------+-------------+"
      ]
     },
     "metadata": {},
     "output_type": "display_data"
    },
    {
     "data": {
      "text/html": [
       "<pre>| Initial | 106us        | 1.6587            | 1.2879                |             |</pre>"
      ],
      "text/plain": [
       "| Initial | 106us        | 1.6587            | 1.2879                |             |"
      ]
     },
     "metadata": {},
     "output_type": "display_data"
    },
    {
     "data": {
      "text/html": [
       "<pre>+---------+--------------+-------------------+-----------------------+-------------+</pre>"
      ],
      "text/plain": [
       "+---------+--------------+-------------------+-----------------------+-------------+"
      ]
     },
     "metadata": {},
     "output_type": "display_data"
    },
    {
     "data": {
      "text/html": [
       "<pre>| 1       | 173.029ms    | 1.56343           | 1.25036               | 0.0244141   |</pre>"
      ],
      "text/plain": [
       "| 1       | 173.029ms    | 1.56343           | 1.25036               | 0.0244141   |"
      ]
     },
     "metadata": {},
     "output_type": "display_data"
    },
    {
     "data": {
      "text/html": [
       "<pre>| 2       | 355.755ms    | 1.5315            | 1.23752               | 0.0244141   |</pre>"
      ],
      "text/plain": [
       "| 2       | 355.755ms    | 1.5315            | 1.23752               | 0.0244141   |"
      ]
     },
     "metadata": {},
     "output_type": "display_data"
    },
    {
     "data": {
      "text/html": [
       "<pre>| 3       | 524.102ms    | 1.5138            | 1.23035               | 0.0244141   |</pre>"
      ],
      "text/plain": [
       "| 3       | 524.102ms    | 1.5138            | 1.23035               | 0.0244141   |"
      ]
     },
     "metadata": {},
     "output_type": "display_data"
    },
    {
     "data": {
      "text/html": [
       "<pre>| 4       | 701.865ms    | 0.893377          | 0.945167              | 0.0244141   |</pre>"
      ],
      "text/plain": [
       "| 4       | 701.865ms    | 0.893377          | 0.945167              | 0.0244141   |"
      ]
     },
     "metadata": {},
     "output_type": "display_data"
    },
    {
     "data": {
      "text/html": [
       "<pre>| 5       | 870.767ms    | 0.664891          | 0.815384              | 0.0244141   |</pre>"
      ],
      "text/plain": [
       "| 5       | 870.767ms    | 0.664891          | 0.815384              | 0.0244141   |"
      ]
     },
     "metadata": {},
     "output_type": "display_data"
    },
    {
     "data": {
      "text/html": [
       "<pre>| 10      | 1.71s        | 0.48658           | 0.697511              | 0.0244141   |</pre>"
      ],
      "text/plain": [
       "| 10      | 1.71s        | 0.48658           | 0.697511              | 0.0244141   |"
      ]
     },
     "metadata": {},
     "output_type": "display_data"
    },
    {
     "data": {
      "text/html": [
       "<pre>| 25      | 4.26s        | 0.681223          | 0.82532               | 0.0244141   |</pre>"
      ],
      "text/plain": [
       "| 25      | 4.26s        | 0.681223          | 0.82532               | 0.0244141   |"
      ]
     },
     "metadata": {},
     "output_type": "display_data"
    },
    {
     "data": {
      "text/html": [
       "<pre>| 50      | 8.50s        | 0.300919          | 0.548491              | 0.0244141   |</pre>"
      ],
      "text/plain": [
       "| 50      | 8.50s        | 0.300919          | 0.548491              | 0.0244141   |"
      ]
     },
     "metadata": {},
     "output_type": "display_data"
    },
    {
     "data": {
      "text/html": [
       "<pre>+---------+--------------+-------------------+-----------------------+-------------+</pre>"
      ],
      "text/plain": [
       "+---------+--------------+-------------------+-----------------------+-------------+"
      ]
     },
     "metadata": {},
     "output_type": "display_data"
    },
    {
     "data": {
      "text/html": [
       "<pre>Optimization Complete: Maximum number of passes through the data reached.</pre>"
      ],
      "text/plain": [
       "Optimization Complete: Maximum number of passes through the data reached."
      ]
     },
     "metadata": {},
     "output_type": "display_data"
    },
    {
     "data": {
      "text/html": [
       "<pre>Computing final objective value and training RMSE.</pre>"
      ],
      "text/plain": [
       "Computing final objective value and training RMSE."
      ]
     },
     "metadata": {},
     "output_type": "display_data"
    },
    {
     "data": {
      "text/html": [
       "<pre>       Final objective value: 0.282877</pre>"
      ],
      "text/plain": [
       "       Final objective value: 0.282877"
      ]
     },
     "metadata": {},
     "output_type": "display_data"
    },
    {
     "data": {
      "text/html": [
       "<pre>       Final training RMSE: 0.531789</pre>"
      ],
      "text/plain": [
       "       Final training RMSE: 0.531789"
      ]
     },
     "metadata": {},
     "output_type": "display_data"
    }
   ],
   "source": [
    "import turicreate\n",
    "train_data = turicreate.SFrame(df_train)\n",
    "test_data = turicreate.SFrame(df_test)\n",
    "popularity_model = turicreate.popularity_recommender.create(train_data, user_id='UserId', item_id='ProductId', target='Score')\n",
    "item_similarity_model = turicreate.item_similarity_recommender.create(train_data, user_id='UserId', item_id='ProductId', target='Score')\n",
    "factorization_model = turicreate.factorization_recommender.create(train_data, user_id='UserId', item_id='ProductId', target='Score')"
   ]
  },
  {
   "cell_type": "code",
   "execution_count": 6,
   "metadata": {
    "ExecuteTime": {
     "end_time": "2021-09-24T09:37:28.894999Z",
     "start_time": "2021-09-24T09:37:28.873860Z"
    },
    "hidden": true
   },
   "outputs": [
    {
     "name": "stdout",
     "output_type": "stream",
     "text": [
      "+----------------+------------+-------+------+\n",
      "|     UserId     | ProductId  | score | rank |\n",
      "+----------------+------------+-------+------+\n",
      "| A1D87F6ZCVE5NK | B0001PB9FY |  5.0  |  1   |\n",
      "| A1D87F6ZCVE5NK | B0009XLVG0 |  5.0  |  2   |\n",
      "| A1D87F6ZCVE5NK | B0001PB9FE |  5.0  |  3   |\n",
      "| A1D87F6ZCVE5NK | B000E7L2R4 |  5.0  |  4   |\n",
      "| A1D87F6ZCVE5NK | B001E4KFG0 |  5.0  |  5   |\n",
      "| A1UQRSCLF8GW1T | B0001PB9FY |  5.0  |  1   |\n",
      "| A1UQRSCLF8GW1T | B0009XLVG0 |  5.0  |  2   |\n",
      "| A1UQRSCLF8GW1T | B0001PB9FE |  5.0  |  3   |\n",
      "| A1UQRSCLF8GW1T | B000E7L2R4 |  5.0  |  4   |\n",
      "| A1UQRSCLF8GW1T | B001E4KFG0 |  5.0  |  5   |\n",
      "+----------------+------------+-------+------+\n",
      "[10 rows x 4 columns]\n",
      "\n"
     ]
    }
   ],
   "source": [
    "popularity_recomm = popularity_model.recommend(users=['A1D87F6ZCVE5NK','A1UQRSCLF8GW1T'],k=5)\n",
    "popularity_recomm.print_rows()"
   ]
  },
  {
   "cell_type": "code",
   "execution_count": 9,
   "metadata": {
    "ExecuteTime": {
     "end_time": "2021-09-24T09:45:40.248019Z",
     "start_time": "2021-09-24T09:45:40.215866Z"
    },
    "hidden": true
   },
   "outputs": [
    {
     "name": "stdout",
     "output_type": "stream",
     "text": [
      "+----------------+------------+----------------------+------+\n",
      "|     UserId     | ProductId  |        score         | rank |\n",
      "+----------------+------------+----------------------+------+\n",
      "| A1D87F6ZCVE5NK | B003TC7WN4 | 0.16065040588378907  |  1   |\n",
      "| A1D87F6ZCVE5NK | B003VXHGDM | 0.16065040588378907  |  2   |\n",
      "| A1D87F6ZCVE5NK | B003VXL0V6 | 0.16065040588378907  |  3   |\n",
      "| A1D87F6ZCVE5NK | B006N3IG4K | 0.16065040588378907  |  4   |\n",
      "| A1D87F6ZCVE5NK | B003VXFK44 | 0.16065040588378907  |  5   |\n",
      "| A1UQRSCLF8GW1T | B004TPKAN4 | 0.06994330883026123  |  1   |\n",
      "| A1UQRSCLF8GW1T | B005IW4WFY | 0.06841045618057251  |  2   |\n",
      "| A1UQRSCLF8GW1T | B008RWUHA6 | 0.06841045618057251  |  3   |\n",
      "| A1UQRSCLF8GW1T | B008RWUKXK | 0.06841045618057251  |  4   |\n",
      "| A1UQRSCLF8GW1T | B003GTR8IO | 0.055483877658843994 |  5   |\n",
      "+----------------+------------+----------------------+------+\n",
      "[10 rows x 4 columns]\n",
      "\n"
     ]
    }
   ],
   "source": [
    "item_recomm = item_similarity_model.recommend(users=['A1D87F6ZCVE5NK','A1UQRSCLF8GW1T'],k=5)\n",
    "item_recomm.print_rows()"
   ]
  },
  {
   "cell_type": "code",
   "execution_count": 13,
   "metadata": {
    "ExecuteTime": {
     "end_time": "2021-09-24T09:54:48.359018Z",
     "start_time": "2021-09-24T09:54:48.333576Z"
    },
    "hidden": true
   },
   "outputs": [
    {
     "name": "stdout",
     "output_type": "stream",
     "text": [
      "+----------------+------------+--------------------+------+\n",
      "|     UserId     | ProductId  |       score        | rank |\n",
      "+----------------+------------+--------------------+------+\n",
      "| A1D87F6ZCVE5NK | B00141OX52 | 5.177473444104399  |  1   |\n",
      "| A1D87F6ZCVE5NK | B00141OU50 | 5.1459485474826945 |  2   |\n",
      "| A1D87F6ZCVE5NK | B007TJGY46 |  5.08629055655023  |  3   |\n",
      "| A1D87F6ZCVE5NK | B0018CFNFG | 5.071938175320829  |  4   |\n",
      "| A1D87F6ZCVE5NK | B001E18K8S | 5.071796256661619  |  5   |\n",
      "| A1UQRSCLF8GW1T | B001E18K8S | 5.218688092738594  |  1   |\n",
      "| A1UQRSCLF8GW1T | B00141OX52 | 5.160367566704954  |  2   |\n",
      "| A1UQRSCLF8GW1T | B00141OU50 | 5.131614282340015  |  3   |\n",
      "| A1UQRSCLF8GW1T | B0018CFNFG | 5.128213984970207  |  4   |\n",
      "| A1UQRSCLF8GW1T | B000FK7PQW | 5.116248304568435  |  5   |\n",
      "+----------------+------------+--------------------+------+\n",
      "[10 rows x 4 columns]\n",
      "\n"
     ]
    }
   ],
   "source": [
    "factor_recomm = factorization_model.recommend(users=['A1D87F6ZCVE5NK','A1UQRSCLF8GW1T'],k=5)\n",
    "factor_recomm.print_rows()"
   ]
  },
  {
   "cell_type": "code",
   "execution_count": 7,
   "metadata": {
    "ExecuteTime": {
     "end_time": "2021-09-24T09:42:53.677718Z",
     "start_time": "2021-09-24T09:42:53.672536Z"
    },
    "hidden": true
   },
   "outputs": [
    {
     "name": "stdout",
     "output_type": "stream",
     "text": [
      "{'UserId': 'A1D87F6ZCVE5NK', 'ProductId': 'B0001PB9FY', 'score': 5.0, 'rank': 1}\n",
      "{'UserId': 'A1D87F6ZCVE5NK', 'ProductId': 'B0009XLVG0', 'score': 5.0, 'rank': 2}\n",
      "{'UserId': 'A1D87F6ZCVE5NK', 'ProductId': 'B0001PB9FE', 'score': 5.0, 'rank': 3}\n",
      "{'UserId': 'A1D87F6ZCVE5NK', 'ProductId': 'B000E7L2R4', 'score': 5.0, 'rank': 4}\n",
      "{'UserId': 'A1D87F6ZCVE5NK', 'ProductId': 'B001E4KFG0', 'score': 5.0, 'rank': 5}\n",
      "{'UserId': 'A1UQRSCLF8GW1T', 'ProductId': 'B0001PB9FY', 'score': 5.0, 'rank': 1}\n",
      "{'UserId': 'A1UQRSCLF8GW1T', 'ProductId': 'B0009XLVG0', 'score': 5.0, 'rank': 2}\n",
      "{'UserId': 'A1UQRSCLF8GW1T', 'ProductId': 'B0001PB9FE', 'score': 5.0, 'rank': 3}\n",
      "{'UserId': 'A1UQRSCLF8GW1T', 'ProductId': 'B000E7L2R4', 'score': 5.0, 'rank': 4}\n",
      "{'UserId': 'A1UQRSCLF8GW1T', 'ProductId': 'B001E4KFG0', 'score': 5.0, 'rank': 5}\n"
     ]
    }
   ],
   "source": [
    "for elem in popularity_recomm:\n",
    "    print(elem)"
   ]
  },
  {
   "cell_type": "code",
   "execution_count": 26,
   "metadata": {
    "ExecuteTime": {
     "end_time": "2021-09-24T11:31:51.929546Z",
     "start_time": "2021-09-24T11:31:51.922565Z"
    },
    "hidden": true
   },
   "outputs": [
    {
     "data": {
      "text/plain": [
       "dtype: float\n",
       "Rows: ?\n",
       "[5.0, 5.0, ... ]"
      ]
     },
     "execution_count": 26,
     "metadata": {},
     "output_type": "execute_result"
    }
   ],
   "source": [
    "popularity_recomm[popularity_recomm['ProductId']=='B0001PB9FY']['score']\n",
    "recomm[recomm['ProductId']==ProductId]['score']"
   ]
  },
  {
   "cell_type": "markdown",
   "metadata": {
    "heading_collapsed": true
   },
   "source": [
    "## Model evaluation"
   ]
  },
  {
   "cell_type": "code",
   "execution_count": 30,
   "metadata": {
    "ExecuteTime": {
     "end_time": "2021-09-24T12:37:54.313806Z",
     "start_time": "2021-09-24T11:37:43.306911Z"
    },
    "hidden": true
   },
   "outputs": [
    {
     "name": "stdout",
     "output_type": "stream",
     "text": [
      "B0029NVLB8 true Score:161770    5\n",
      "Name: Score, dtype: int64 prediction:[5.0, ... ]\n",
      "B005FH3XCA true Score:142225    5\n",
      "Name: Score, dtype: int64 prediction:[5.0, ... ]\n",
      "B0047LWWH2 true Score:131246    3\n",
      "Name: Score, dtype: int64 prediction:[5.0, ... ]\n",
      "B000G34AXO true Score:91293    5\n",
      "Name: Score, dtype: int64 prediction:[5.0, ... ]\n",
      "B000YPMK68 true Score:238410    5\n",
      "Name: Score, dtype: int64 prediction:[5.0, ... ]\n",
      "B000YPMK68 true Score:238413    5\n",
      "Name: Score, dtype: int64 prediction:[5.0, ... ]\n",
      "B002GWH5XK true Score:544367    5\n",
      "Name: Score, dtype: int64 prediction:[5.0, ... ]\n",
      "B0029NVLB8 true Score:161773    5\n",
      "Name: Score, dtype: int64 prediction:[5.0, ... ]\n",
      "B001H1BI1Q true Score:411578    5\n",
      "Name: Score, dtype: int64 prediction:[5.0, ... ]\n",
      "B004SKIU5K true Score:95124    3\n",
      "Name: Score, dtype: int64 prediction:[5.0, ... ]\n",
      "B000FTU5N8 true Score:471686    5\n",
      "Name: Score, dtype: int64 prediction:[5.0, ... ]\n",
      "B009D53XKC true Score:224642    5\n",
      "Name: Score, dtype: int64 prediction:[5.0, ... ]\n",
      "B004LWGLCY true Score:538557    5\n",
      "Name: Score, dtype: int64 prediction:[5.0, ... ]\n",
      "B002GWMEK4 true Score:323874    3\n",
      "Name: Score, dtype: int64 prediction:[5.0, ... ]\n",
      "B001CWY33U true Score:80588    5\n",
      "Name: Score, dtype: int64 prediction:[5.0, ... ]\n",
      "B001CWY33U true Score:80587    5\n",
      "Name: Score, dtype: int64 prediction:[5.0, ... ]\n",
      "B008OE9HI0 true Score:224581    5\n",
      "Name: Score, dtype: int64 prediction:[5.0, ... ]\n",
      "B000PEFPSS true Score:142240    5\n",
      "Name: Score, dtype: int64 prediction:[5.0, ... ]\n",
      "B001HTRADI true Score:206356    5\n",
      "Name: Score, dtype: int64 prediction:[5.0, ... ]\n",
      "B004LWGLCY true Score:538555    5\n",
      "Name: Score, dtype: int64 prediction:[5.0, ... ]\n",
      "B0052BRWGW true Score:206276    2\n",
      "Name: Score, dtype: int64 prediction:[5.0, ... ]\n",
      "B001VNO3B2 true Score:356804    5\n",
      "Name: Score, dtype: int64 prediction:[5.0, ... ]\n",
      "B0029NVLB8 true Score:161776    5\n",
      "Name: Score, dtype: int64 prediction:[5.0, ... ]\n",
      "B000YPMK68 true Score:238418    5\n",
      "Name: Score, dtype: int64 prediction:[5.0, ... ]\n",
      "B004UKJS6I true Score:395361    4\n",
      "Name: Score, dtype: int64 prediction:[5.0, ... ]\n",
      "B000216AEC true Score:356895    5\n",
      "Name: Score, dtype: int64 prediction:[5.0, ... ]\n",
      "B004LWGLCY true Score:538556    5\n",
      "Name: Score, dtype: int64 prediction:[5.0, ... ]\n",
      "B001BDEI6M true Score:542182    5\n",
      "Name: Score, dtype: int64 prediction:[5.0, ... ]\n",
      "B004WZ4EVK true Score:252111    2\n",
      "Name: Score, dtype: int64 prediction:[5.0, ... ]\n",
      "B0029NVLB8 true Score:161777    5\n",
      "Name: Score, dtype: int64 prediction:[5.0, ... ]\n",
      "B000XSANDS true Score:161789    2\n",
      "Name: Score, dtype: int64 prediction:[5.0, ... ]\n",
      "B000W7PUL0 true Score:80585    4\n",
      "Name: Score, dtype: int64 prediction:[5.0, ... ]\n",
      "B0029NVLB8 true Score:161775    1\n",
      "Name: Score, dtype: int64 prediction:[5.0, ... ]\n",
      "B004IY18QY true Score:518003    1\n",
      "Name: Score, dtype: int64 prediction:[5.0, ... ]\n",
      "B000FA1QKI true Score:490382    3\n",
      "Name: Score, dtype: int64 prediction:[5.0, ... ]\n",
      "B001EO5XTO true Score:471323    5\n",
      "Name: Score, dtype: int64 prediction:[5.0, ... ]\n",
      "B000H11D8A true Score:447885    5\n",
      "Name: Score, dtype: int64 prediction:[5.0, ... ]\n",
      "B000YPMK68 true Score:238414    5\n",
      "Name: Score, dtype: int64 prediction:[5.0, ... ]\n",
      "B0029NVLB8 true Score:161772    5\n",
      "Name: Score, dtype: int64 prediction:[5.0, ... ]\n",
      "B004WZ4EVK true Score:252110    5\n",
      "Name: Score, dtype: int64 prediction:[5.0, ... ]\n",
      "B004WZ4EVK true Score:252112    5\n",
      "Name: Score, dtype: int64 prediction:[5.0, ... ]\n",
      "B0038EJ5V0 true Score:370008    4\n",
      "Name: Score, dtype: int64 prediction:[5.0, ... ]\n",
      "B000FTU5N8 true Score:471684    5\n",
      "Name: Score, dtype: int64 prediction:[5.0, ... ]\n",
      "B009D53XKC true Score:224640    5\n",
      "Name: Score, dtype: int64 prediction:[5.0, ... ]\n",
      "B002ATBRHO true Score:186188    3\n",
      "Name: Score, dtype: int64 prediction:[5.0, ... ]\n",
      "B005IOF99K true Score:286845    1\n",
      "Name: Score, dtype: int64 prediction:[5.0, ... ]\n",
      "B000YPMK68 true Score:238415    5\n",
      "Name: Score, dtype: int64 prediction:[5.0, ... ]\n",
      "B003O787JW true Score:518017    5\n",
      "Name: Score, dtype: int64 prediction:[5.0, ... ]\n",
      "B003O787JW true Score:518018    5\n",
      "Name: Score, dtype: int64 prediction:[5.0, ... ]\n",
      "B0029NVLB8 true Score:161771    5\n",
      "Name: Score, dtype: int64 prediction:[5.0, ... ]\n",
      "B004PDIRDA true Score:95128    1\n",
      "Name: Score, dtype: int64 prediction:[5.0, ... ]\n",
      "B003ZUNKJ0 true Score:369961    5\n",
      "Name: Score, dtype: int64 prediction:[5.0, ... ]\n",
      "B004LWGLCY true Score:538559    3\n",
      "Name: Score, dtype: int64 prediction:[5.0, ... ]\n",
      "B002OUGQ70 true Score:560027    2\n",
      "Name: Score, dtype: int64 prediction:[5.0, ... ]\n",
      "B0001DQLWM true Score:286840    5\n",
      "Name: Score, dtype: int64 prediction:[5.0, ... ]\n"
     ]
    },
    {
     "ename": "KeyboardInterrupt",
     "evalue": "",
     "output_type": "error",
     "traceback": [
      "\u001b[0;31m---------------------------------------------------------------------------\u001b[0m",
      "\u001b[0;31mKeyboardInterrupt\u001b[0m                         Traceback (most recent call last)",
      "\u001b[0;32m/tmp/ipykernel_55970/2045239971.py\u001b[0m in \u001b[0;36m<module>\u001b[0;34m\u001b[0m\n\u001b[1;32m     14\u001b[0m \u001b[0;34m\u001b[0m\u001b[0m\n\u001b[1;32m     15\u001b[0m \u001b[0;32mfor\u001b[0m \u001b[0mUserId\u001b[0m \u001b[0;32min\u001b[0m \u001b[0mtest_users\u001b[0m\u001b[0;34m:\u001b[0m\u001b[0;34m\u001b[0m\u001b[0;34m\u001b[0m\u001b[0m\n\u001b[0;32m---> 16\u001b[0;31m     \u001b[0mtrain_products\u001b[0m \u001b[0;34m=\u001b[0m \u001b[0mset\u001b[0m\u001b[0;34m(\u001b[0m\u001b[0mdf_train\u001b[0m\u001b[0;34m[\u001b[0m\u001b[0mdf_train\u001b[0m\u001b[0;34m.\u001b[0m\u001b[0mUserId\u001b[0m\u001b[0;34m==\u001b[0m\u001b[0mUserId\u001b[0m\u001b[0;34m]\u001b[0m\u001b[0;34m[\u001b[0m\u001b[0;34m'ProductId'\u001b[0m\u001b[0;34m]\u001b[0m\u001b[0;34m.\u001b[0m\u001b[0munique\u001b[0m\u001b[0;34m(\u001b[0m\u001b[0;34m)\u001b[0m\u001b[0;34m)\u001b[0m\u001b[0;34m\u001b[0m\u001b[0;34m\u001b[0m\u001b[0m\n\u001b[0m\u001b[1;32m     17\u001b[0m     \u001b[0mrecomm\u001b[0m \u001b[0;34m=\u001b[0m \u001b[0mpopularity_model\u001b[0m\u001b[0;34m.\u001b[0m\u001b[0mrecommend\u001b[0m\u001b[0;34m(\u001b[0m\u001b[0musers\u001b[0m\u001b[0;34m=\u001b[0m\u001b[0;34m[\u001b[0m\u001b[0mUserId\u001b[0m\u001b[0;34m]\u001b[0m\u001b[0;34m,\u001b[0m\u001b[0mk\u001b[0m\u001b[0;34m=\u001b[0m\u001b[0;36m100\u001b[0m\u001b[0;34m)\u001b[0m\u001b[0;34m\u001b[0m\u001b[0;34m\u001b[0m\u001b[0m\n\u001b[1;32m     18\u001b[0m     \u001b[0;32mif\u001b[0m \u001b[0mtrain_products\u001b[0m\u001b[0;34m.\u001b[0m\u001b[0mintersection\u001b[0m\u001b[0;34m(\u001b[0m\u001b[0mrecomm\u001b[0m\u001b[0;34m[\u001b[0m\u001b[0;34m'ProductId'\u001b[0m\u001b[0;34m]\u001b[0m\u001b[0;34m)\u001b[0m\u001b[0;34m:\u001b[0m\u001b[0;34m\u001b[0m\u001b[0;34m\u001b[0m\u001b[0m\n",
      "\u001b[0;32m~/.conda/envs/test38/lib/python3.8/site-packages/pandas/core/ops/common.py\u001b[0m in \u001b[0;36mnew_method\u001b[0;34m(self, other)\u001b[0m\n\u001b[1;32m     67\u001b[0m         \u001b[0mother\u001b[0m \u001b[0;34m=\u001b[0m \u001b[0mitem_from_zerodim\u001b[0m\u001b[0;34m(\u001b[0m\u001b[0mother\u001b[0m\u001b[0;34m)\u001b[0m\u001b[0;34m\u001b[0m\u001b[0;34m\u001b[0m\u001b[0m\n\u001b[1;32m     68\u001b[0m \u001b[0;34m\u001b[0m\u001b[0m\n\u001b[0;32m---> 69\u001b[0;31m         \u001b[0;32mreturn\u001b[0m \u001b[0mmethod\u001b[0m\u001b[0;34m(\u001b[0m\u001b[0mself\u001b[0m\u001b[0;34m,\u001b[0m \u001b[0mother\u001b[0m\u001b[0;34m)\u001b[0m\u001b[0;34m\u001b[0m\u001b[0;34m\u001b[0m\u001b[0m\n\u001b[0m\u001b[1;32m     70\u001b[0m \u001b[0;34m\u001b[0m\u001b[0m\n\u001b[1;32m     71\u001b[0m     \u001b[0;32mreturn\u001b[0m \u001b[0mnew_method\u001b[0m\u001b[0;34m\u001b[0m\u001b[0;34m\u001b[0m\u001b[0m\n",
      "\u001b[0;32m~/.conda/envs/test38/lib/python3.8/site-packages/pandas/core/arraylike.py\u001b[0m in \u001b[0;36m__eq__\u001b[0;34m(self, other)\u001b[0m\n\u001b[1;32m     30\u001b[0m     \u001b[0;34m@\u001b[0m\u001b[0munpack_zerodim_and_defer\u001b[0m\u001b[0;34m(\u001b[0m\u001b[0;34m\"__eq__\"\u001b[0m\u001b[0;34m)\u001b[0m\u001b[0;34m\u001b[0m\u001b[0;34m\u001b[0m\u001b[0m\n\u001b[1;32m     31\u001b[0m     \u001b[0;32mdef\u001b[0m \u001b[0m__eq__\u001b[0m\u001b[0;34m(\u001b[0m\u001b[0mself\u001b[0m\u001b[0;34m,\u001b[0m \u001b[0mother\u001b[0m\u001b[0;34m)\u001b[0m\u001b[0;34m:\u001b[0m\u001b[0;34m\u001b[0m\u001b[0;34m\u001b[0m\u001b[0m\n\u001b[0;32m---> 32\u001b[0;31m         \u001b[0;32mreturn\u001b[0m \u001b[0mself\u001b[0m\u001b[0;34m.\u001b[0m\u001b[0m_cmp_method\u001b[0m\u001b[0;34m(\u001b[0m\u001b[0mother\u001b[0m\u001b[0;34m,\u001b[0m \u001b[0moperator\u001b[0m\u001b[0;34m.\u001b[0m\u001b[0meq\u001b[0m\u001b[0;34m)\u001b[0m\u001b[0;34m\u001b[0m\u001b[0;34m\u001b[0m\u001b[0m\n\u001b[0m\u001b[1;32m     33\u001b[0m \u001b[0;34m\u001b[0m\u001b[0m\n\u001b[1;32m     34\u001b[0m     \u001b[0;34m@\u001b[0m\u001b[0munpack_zerodim_and_defer\u001b[0m\u001b[0;34m(\u001b[0m\u001b[0;34m\"__ne__\"\u001b[0m\u001b[0;34m)\u001b[0m\u001b[0;34m\u001b[0m\u001b[0;34m\u001b[0m\u001b[0m\n",
      "\u001b[0;32m~/.conda/envs/test38/lib/python3.8/site-packages/pandas/core/series.py\u001b[0m in \u001b[0;36m_cmp_method\u001b[0;34m(self, other, op)\u001b[0m\n\u001b[1;32m   5500\u001b[0m \u001b[0;34m\u001b[0m\u001b[0m\n\u001b[1;32m   5501\u001b[0m         \u001b[0;32mwith\u001b[0m \u001b[0mnp\u001b[0m\u001b[0;34m.\u001b[0m\u001b[0merrstate\u001b[0m\u001b[0;34m(\u001b[0m\u001b[0mall\u001b[0m\u001b[0;34m=\u001b[0m\u001b[0;34m\"ignore\"\u001b[0m\u001b[0;34m)\u001b[0m\u001b[0;34m:\u001b[0m\u001b[0;34m\u001b[0m\u001b[0;34m\u001b[0m\u001b[0m\n\u001b[0;32m-> 5502\u001b[0;31m             \u001b[0mres_values\u001b[0m \u001b[0;34m=\u001b[0m \u001b[0mops\u001b[0m\u001b[0;34m.\u001b[0m\u001b[0mcomparison_op\u001b[0m\u001b[0;34m(\u001b[0m\u001b[0mlvalues\u001b[0m\u001b[0;34m,\u001b[0m \u001b[0mrvalues\u001b[0m\u001b[0;34m,\u001b[0m \u001b[0mop\u001b[0m\u001b[0;34m)\u001b[0m\u001b[0;34m\u001b[0m\u001b[0;34m\u001b[0m\u001b[0m\n\u001b[0m\u001b[1;32m   5503\u001b[0m \u001b[0;34m\u001b[0m\u001b[0m\n\u001b[1;32m   5504\u001b[0m         \u001b[0;32mreturn\u001b[0m \u001b[0mself\u001b[0m\u001b[0;34m.\u001b[0m\u001b[0m_construct_result\u001b[0m\u001b[0;34m(\u001b[0m\u001b[0mres_values\u001b[0m\u001b[0;34m,\u001b[0m \u001b[0mname\u001b[0m\u001b[0;34m=\u001b[0m\u001b[0mres_name\u001b[0m\u001b[0;34m)\u001b[0m\u001b[0;34m\u001b[0m\u001b[0;34m\u001b[0m\u001b[0m\n",
      "\u001b[0;32m~/.conda/envs/test38/lib/python3.8/site-packages/pandas/core/ops/array_ops.py\u001b[0m in \u001b[0;36mcomparison_op\u001b[0;34m(left, right, op)\u001b[0m\n\u001b[1;32m    282\u001b[0m \u001b[0;34m\u001b[0m\u001b[0m\n\u001b[1;32m    283\u001b[0m     \u001b[0;32melif\u001b[0m \u001b[0mis_object_dtype\u001b[0m\u001b[0;34m(\u001b[0m\u001b[0mlvalues\u001b[0m\u001b[0;34m.\u001b[0m\u001b[0mdtype\u001b[0m\u001b[0;34m)\u001b[0m \u001b[0;32mor\u001b[0m \u001b[0misinstance\u001b[0m\u001b[0;34m(\u001b[0m\u001b[0mrvalues\u001b[0m\u001b[0;34m,\u001b[0m \u001b[0mstr\u001b[0m\u001b[0;34m)\u001b[0m\u001b[0;34m:\u001b[0m\u001b[0;34m\u001b[0m\u001b[0;34m\u001b[0m\u001b[0m\n\u001b[0;32m--> 284\u001b[0;31m         \u001b[0mres_values\u001b[0m \u001b[0;34m=\u001b[0m \u001b[0mcomp_method_OBJECT_ARRAY\u001b[0m\u001b[0;34m(\u001b[0m\u001b[0mop\u001b[0m\u001b[0;34m,\u001b[0m \u001b[0mlvalues\u001b[0m\u001b[0;34m,\u001b[0m \u001b[0mrvalues\u001b[0m\u001b[0;34m)\u001b[0m\u001b[0;34m\u001b[0m\u001b[0;34m\u001b[0m\u001b[0m\n\u001b[0m\u001b[1;32m    285\u001b[0m \u001b[0;34m\u001b[0m\u001b[0m\n\u001b[1;32m    286\u001b[0m     \u001b[0;32melse\u001b[0m\u001b[0;34m:\u001b[0m\u001b[0;34m\u001b[0m\u001b[0;34m\u001b[0m\u001b[0m\n",
      "\u001b[0;32m~/.conda/envs/test38/lib/python3.8/site-packages/pandas/core/ops/array_ops.py\u001b[0m in \u001b[0;36mcomp_method_OBJECT_ARRAY\u001b[0;34m(op, x, y)\u001b[0m\n\u001b[1;32m     71\u001b[0m         \u001b[0mresult\u001b[0m \u001b[0;34m=\u001b[0m \u001b[0mlibops\u001b[0m\u001b[0;34m.\u001b[0m\u001b[0mvec_compare\u001b[0m\u001b[0;34m(\u001b[0m\u001b[0mx\u001b[0m\u001b[0;34m.\u001b[0m\u001b[0mravel\u001b[0m\u001b[0;34m(\u001b[0m\u001b[0;34m)\u001b[0m\u001b[0;34m,\u001b[0m \u001b[0my\u001b[0m\u001b[0;34m.\u001b[0m\u001b[0mravel\u001b[0m\u001b[0;34m(\u001b[0m\u001b[0;34m)\u001b[0m\u001b[0;34m,\u001b[0m \u001b[0mop\u001b[0m\u001b[0;34m)\u001b[0m\u001b[0;34m\u001b[0m\u001b[0;34m\u001b[0m\u001b[0m\n\u001b[1;32m     72\u001b[0m     \u001b[0;32melse\u001b[0m\u001b[0;34m:\u001b[0m\u001b[0;34m\u001b[0m\u001b[0;34m\u001b[0m\u001b[0m\n\u001b[0;32m---> 73\u001b[0;31m         \u001b[0mresult\u001b[0m \u001b[0;34m=\u001b[0m \u001b[0mlibops\u001b[0m\u001b[0;34m.\u001b[0m\u001b[0mscalar_compare\u001b[0m\u001b[0;34m(\u001b[0m\u001b[0mx\u001b[0m\u001b[0;34m.\u001b[0m\u001b[0mravel\u001b[0m\u001b[0;34m(\u001b[0m\u001b[0;34m)\u001b[0m\u001b[0;34m,\u001b[0m \u001b[0my\u001b[0m\u001b[0;34m,\u001b[0m \u001b[0mop\u001b[0m\u001b[0;34m)\u001b[0m\u001b[0;34m\u001b[0m\u001b[0;34m\u001b[0m\u001b[0m\n\u001b[0m\u001b[1;32m     74\u001b[0m     \u001b[0;32mreturn\u001b[0m \u001b[0mresult\u001b[0m\u001b[0;34m.\u001b[0m\u001b[0mreshape\u001b[0m\u001b[0;34m(\u001b[0m\u001b[0mx\u001b[0m\u001b[0;34m.\u001b[0m\u001b[0mshape\u001b[0m\u001b[0;34m)\u001b[0m\u001b[0;34m\u001b[0m\u001b[0;34m\u001b[0m\u001b[0m\n\u001b[1;32m     75\u001b[0m \u001b[0;34m\u001b[0m\u001b[0m\n",
      "\u001b[0;31mKeyboardInterrupt\u001b[0m: "
     ]
    }
   ],
   "source": [
    "train_users = set(df_train['UserId'].unique())\n",
    "train_products = set(df_train['ProductId'].unique())\n",
    "test_users = set(df_test['UserId'].unique())\n",
    "test_products = set(df_test['ProductId'].unique())\n",
    "\n",
    "# user_ids, product_ids = {}, {}\n",
    "# for row in df_test.itertuples():\n",
    "#     if row.UserId in train_users and row.ProductId in train_products:\n",
    "#         user_id = user_ids.get(row.UserId, df_train.loc[df_train.index[df_train.UserId==row.UserId][0], 'user_id'])\n",
    "#         user_ids[row.UserId] = user_id\n",
    "#         product_id = product_ids.get(row.ProductId, df_train.loc[df_train.index[df_train.ProductId==row.ProductId][0], 'product_id'])\n",
    "#         product_ids[row.ProductId] = product_id\n",
    "#         print(row.Score, predictions[user_id, product_id])\n",
    "\n",
    "for UserId in test_users:\n",
    "    train_products = set(df_train[df_train.UserId==UserId]['ProductId'].unique())\n",
    "    recomm = popularity_model.recommend(users=[UserId],k=100)\n",
    "    if train_products.intersection(recomm['ProductId']):\n",
    "        print(f'{UserId} train and test intersection {train_products.intersection(recomm[\"ProductId\"])}')\n",
    "    test_products = set(df_test[df_test.UserId==UserId].ProductId.unique())\n",
    "    for ProductId in test_products.intersection(recomm['ProductId']):\n",
    "        true_score = df_test[(df_test.UserId==UserId)&(df_test.ProductId==ProductId)].Score.values\n",
    "        print(f'{ProductId} true Score:{true_score} prediction:{recomm[recomm[\"ProductId\"]==ProductId][\"score\"]}')\n",
    "        "
   ]
  },
  {
   "cell_type": "markdown",
   "metadata": {},
   "source": [
    "## Final recommendation system (on Turicreate)"
   ]
  },
  {
   "cell_type": "code",
   "execution_count": 33,
   "metadata": {
    "ExecuteTime": {
     "end_time": "2021-09-24T12:48:36.682366Z",
     "start_time": "2021-09-24T12:48:36.602550Z"
    }
   },
   "outputs": [
    {
     "data": {
      "text/plain": [
       "['B00141OX52', 'B00141OU50', 'B007TJGY46']"
      ]
     },
     "execution_count": 33,
     "metadata": {},
     "output_type": "execute_result"
    }
   ],
   "source": [
    "# with product_features[product_features['Score_median']==5] \\\n",
    "#          .sort_values(by=['Score_count'], ascending=False) \\\n",
    "#          .head(100) as df_most_popular_products:\n",
    "#     most_popular_products = {}\n",
    "#     for row in df_most_popular_products.itertuples():\n",
    "#         most_popular_products[row.Index] = row.Score_mean\n",
    "\n",
    "# product_prediction = np.load('product_prediction.npy')        \n",
    "        \n",
    "def recommendation(UserId, n_recommendations=3):\n",
    "    recommendations = {}\n",
    "    reviewed_products = set(df[df.UserId==UserId]['ProductId'].unique())\n",
    "    \n",
    "    for model in popularity_model, factorization_model, item_similarity_model:\n",
    "        for row in model.recommend(users=[UserId], k=10):\n",
    "            recommendations[row['ProductId']] = max(recommendations.get(row['ProductId'], row['score']), row['score'])\n",
    "    \n",
    "    new_products = recommendations.keys() - reviewed_products\n",
    "    recommendations = {key:recommendations[key] for key in new_products}\n",
    "    top_recommendations = Counter(recommendations).most_common(n_recommendations)\n",
    "    top_recommendations = [ProductId for ProductId, score in top_recommendations]\n",
    "    return top_recommendations\n",
    "\n",
    "recommendation('A1D87F6ZCVE5NK')"
   ]
  }
 ],
 "metadata": {
  "kernelspec": {
   "display_name": "test38",
   "language": "python",
   "name": "test38"
  },
  "language_info": {
   "codemirror_mode": {
    "name": "ipython",
    "version": 3
   },
   "file_extension": ".py",
   "mimetype": "text/x-python",
   "name": "python",
   "nbconvert_exporter": "python",
   "pygments_lexer": "ipython3",
   "version": "3.8.3"
  },
  "toc": {
   "base_numbering": 1,
   "nav_menu": {},
   "number_sections": true,
   "sideBar": true,
   "skip_h1_title": false,
   "title_cell": "Table of Contents",
   "title_sidebar": "Contents",
   "toc_cell": true,
   "toc_position": {},
   "toc_section_display": true,
   "toc_window_display": false
  },
  "varInspector": {
   "cols": {
    "lenName": 16,
    "lenType": 16,
    "lenVar": 40
   },
   "kernels_config": {
    "python": {
     "delete_cmd_postfix": "",
     "delete_cmd_prefix": "del ",
     "library": "var_list.py",
     "varRefreshCmd": "print(var_dic_list())"
    },
    "r": {
     "delete_cmd_postfix": ") ",
     "delete_cmd_prefix": "rm(",
     "library": "var_list.r",
     "varRefreshCmd": "cat(var_dic_list()) "
    }
   },
   "types_to_exclude": [
    "module",
    "function",
    "builtin_function_or_method",
    "instance",
    "_Feature"
   ],
   "window_display": false
  }
 },
 "nbformat": 4,
 "nbformat_minor": 4
}
